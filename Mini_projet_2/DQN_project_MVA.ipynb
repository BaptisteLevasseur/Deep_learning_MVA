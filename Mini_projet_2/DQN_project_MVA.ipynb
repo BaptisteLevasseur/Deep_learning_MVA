{
 "cells": [
  {
   "cell_type": "markdown",
   "metadata": {},
   "source": [
    "**You may need to install [OpenCV](https://pypi.python.org/pypi/opencv-python) and [scikit-video](http://www.scikit-video.org/stable/).**"
   ]
  },
  {
   "cell_type": "code",
   "execution_count": 2,
   "metadata": {},
   "outputs": [],
   "source": [
    "import keras\n",
    "import numpy as np\n",
    "import io\n",
    "import base64\n",
    "from IPython.display import HTML\n",
    "import skvideo.io\n",
    "import cv2\n",
    "import json\n",
    "\n",
    "from keras.models import Sequential,model_from_json\n",
    "from keras.layers.core import Dense, Flatten, Dropout\n",
    "from keras.optimizers import sgd\n",
    "from keras.layers import Conv2D, MaxPooling2D, Activation, AveragePooling2D,Reshape,BatchNormalization"
   ]
  },
  {
   "cell_type": "markdown",
   "metadata": {},
   "source": [
    "# MiniProject #3: Deep Reinforcement Learning"
   ]
  },
  {
   "cell_type": "markdown",
   "metadata": {},
   "source": [
    "__Notations__: $E_p$ is the expectation under probability $p$. Please justify each of your answer and widely comment your code."
   ]
  },
  {
   "cell_type": "markdown",
   "metadata": {},
   "source": [
    "# Context"
   ]
  },
  {
   "cell_type": "markdown",
   "metadata": {},
   "source": [
    "In a reinforcement learning algorithm, we modelize each step $t$ as an action $a_t$ obtained from a state $s_t$, i.e. $\\{(a_{t},s_{t})_{t\\leq T}\\}$ having the Markov property. We consider a discount factor $\\gamma \\in [0,1]$ that ensures convergence. The goal is to find among all the policies $\\pi$, one that maximizes the expected reward:\n",
    "\n",
    "\\begin{equation*}\n",
    "R(\\pi)=\\sum_{t\\leq T}E_{p^{\\pi}}[\\gamma^t r(s_{t},a_{t})] \\> ,\n",
    "\\end{equation*}\n",
    "\n",
    "where: \n",
    "\\begin{equation*}p^{\\pi}(a_{0},a_{1},s_{1},...,a_{T},s_{T})=p(a_{0})\\prod_{t=1}^{T}\\pi(a_{t}|s_{t})p(s_{t+1}|s_{t},a_{t}) \\> .\n",
    "\\end{equation*}\n",
    "\n",
    "We note the $Q$-function:\n",
    "\n",
    "\\begin{equation*}Q^\\pi(s,a)=E_{p^{\\pi}}[\\sum_{t\\leq T}\\gamma^{t}r(s_{t},a_{t})|s_{0}=s,a_{0}=a] \\> .\n",
    "\\end{equation*}\n",
    "\n",
    "Thus, the optimal Q function is:\n",
    "\\begin{equation*}\n",
    "Q^*(s,a)=\\max_{\\pi}Q^\\pi(s,a) \\> .\n",
    "\\end{equation*}\n",
    "\n",
    "In this project, we will apply the deep reinforcement learning techniques to a simple game: an agent will have to learn from scratch a policy that will permit it maximizing a reward."
   ]
  },
  {
   "cell_type": "markdown",
   "metadata": {},
   "source": [
    "## The environment, the agent and the game"
   ]
  },
  {
   "cell_type": "markdown",
   "metadata": {},
   "source": [
    "### The environment"
   ]
  },
  {
   "cell_type": "markdown",
   "metadata": {},
   "source": [
    "```Environment``` is an abstract class that represents the states, rewards, and actions to obtain the new state."
   ]
  },
  {
   "cell_type": "code",
   "execution_count": 3,
   "metadata": {},
   "outputs": [],
   "source": [
    "class Environment(object):\n",
    "    def __init__(self):\n",
    "        pass\n",
    "\n",
    "    def act(self, act):\n",
    "        \"\"\"\n",
    "        One can act on the environment and obtain its reaction:\n",
    "        - the new state\n",
    "        - the reward of the new state\n",
    "        - should we continue the game?\n",
    "\n",
    "        :return: state, reward, game_over\n",
    "        \"\"\"\n",
    "        pass\n",
    "\n",
    "\n",
    "    def reset(self):\n",
    "        \"\"\"\n",
    "        Reinitialize the environment to a random state and returns\n",
    "        the original state\n",
    "\n",
    "        :return: state\n",
    "        \"\"\"\n",
    "        pass\n",
    "    \n",
    "    def draw(self):\n",
    "        \"\"\"\n",
    "        Visualize in the console or graphically the current state\n",
    "        \"\"\"\n",
    "        pass"
   ]
  },
  {
   "cell_type": "markdown",
   "metadata": {},
   "source": [
    "The method ```act``` allows to act on the environment at a given state $s_t$ (stored internally), via action $a_t$. The method will return the new state $s_{t+1}$, the reward $r(s_{t},a_{t})$ and determines if $t\\leq T$ (*game_over*).\n",
    "\n",
    "The method ```reset``` simply reinitializes the environment to a random state $s_0$.\n",
    "\n",
    "The method ```draw``` displays the current state $s_t$ (this is useful to check the behavior of the Agent).\n",
    "\n",
    "We modelize $s_t$ as a tensor, while $a_t$ is an integer."
   ]
  },
  {
   "cell_type": "markdown",
   "metadata": {},
   "source": [
    "### The Agent"
   ]
  },
  {
   "cell_type": "markdown",
   "metadata": {},
   "source": [
    "The goal of the ```Agent``` is to interact with the ```Environment``` by proposing actions $a_t$ obtained from a given state $s_t$ to attempt to maximize its __reward__ $r(s_t,a_t)$. We propose the following abstract class:"
   ]
  },
  {
   "cell_type": "code",
   "execution_count": 4,
   "metadata": {},
   "outputs": [],
   "source": [
    "class Agent(object):\n",
    "    def __init__(self, epsilon=0.1, n_action=4):\n",
    "        self.epsilon = epsilon\n",
    "        self.n_action = n_action\n",
    "        self.epsilon_min = 0.01\n",
    "        self.epsilon_decay = 0.995\n",
    "    \n",
    "    def set_epsilon(self,e):\n",
    "        self.epsilon = e\n",
    "\n",
    "    def act(self,s,train=True):\n",
    "        \"\"\" This function should return the next action to do:\n",
    "        an integer between 0 and 4 (not included) with a random exploration of epsilon\"\"\"\n",
    "        if train:\n",
    "            if np.random.rand() <= self.epsilon:\n",
    "                a = np.random.randint(0, self.n_action, size=1)[0]\n",
    "            else:\n",
    "                a = self.learned_act(s)\n",
    "        else: # in some cases, this can improve the performance.. remove it if poor performances\n",
    "            a = self.learned_act(s)\n",
    "\n",
    "        return a\n",
    "\n",
    "    def learned_act(self,s):\n",
    "        \"\"\" Act via the policy of the agent, from a given state s\n",
    "        it proposes an action a\"\"\"\n",
    "        pass\n",
    "\n",
    "    def reinforce(self, s, n_s, a, r, game_over_):\n",
    "        \"\"\" This function is the core of the learning algorithm. \n",
    "        It takes as an input the current state s_, the next state n_s_\n",
    "        the action a_ used to move from s_ to n_s_ and the reward r_.\n",
    "        \n",
    "        Its goal is to learn a policy.\n",
    "        \"\"\"\n",
    "        pass\n",
    "\n",
    "    def save(self):\n",
    "        \"\"\" This function returns basic stats if applicable: the\n",
    "        loss and/or the model\"\"\"\n",
    "        pass\n",
    "\n",
    "    def load(self):\n",
    "        \"\"\" This function allows to restore a model\"\"\"\n",
    "        pass"
   ]
  },
  {
   "cell_type": "markdown",
   "metadata": {},
   "source": [
    "***\n",
    "__Question 1__:\n",
    "Explain the function act. Why is ```epsilon``` essential?"
   ]
  },
  {
   "cell_type": "markdown",
   "metadata": {},
   "source": [
    "Epsilon is essential in order to explore and exploit. Indeed, if there is no epsilon, the agent will never explore the environment and will only choose the best solution that can lead to bad performances."
   ]
  },
  {
   "cell_type": "markdown",
   "metadata": {},
   "source": [
    "***\n",
    "### The Game"
   ]
  },
  {
   "cell_type": "markdown",
   "metadata": {},
   "source": [
    "The ```Agent``` and the ```Environment``` work in an interlaced way as in the following (take some time to understand this code as it is the core of the project)\n",
    "\n",
    "```python\n",
    "\n",
    "epoch = 300\n",
    "env = Environment()\n",
    "agent = Agent()\n",
    "\n",
    "\n",
    "# Number of won games\n",
    "score = 0\n",
    "loss = 0\n",
    "\n",
    "\n",
    "for e in range(epoch):\n",
    "    # At each epoch, we restart to a fresh game and get the initial state\n",
    "    state = env.reset()\n",
    "    # This assumes that the games will end\n",
    "    game_over = False\n",
    "\n",
    "    win = 0\n",
    "    lose = 0\n",
    "    \n",
    "    while not game_over:\n",
    "        # The agent performs an action\n",
    "        action = agent.act(state)\n",
    "\n",
    "        # Apply an action to the environment, get the next state, the reward\n",
    "        # and if the games end\n",
    "        prev_state = state\n",
    "        state, reward, game_over = env.act(action)\n",
    "\n",
    "        # Update the counters\n",
    "        if reward > 0:\n",
    "            win = win + reward\n",
    "        if reward < 0:\n",
    "            lose = lose -reward\n",
    "\n",
    "        # Apply the reinforcement strategy\n",
    "        loss = agent.reinforce(prev_state, state,  action, reward, game_over)\n",
    "\n",
    "    # Save as a mp4\n",
    "    if e % 10 == 0:\n",
    "        env.draw(e)\n",
    "\n",
    "    # Update stats\n",
    "    score += win-lose\n",
    "\n",
    "    print(\"Epoch {:03d}/{:03d} | Loss {:.4f} | Win/lose count {}/{} ({})\"\n",
    "          .format(e, epoch, loss, win, lose, win-lose))\n",
    "    agent.save()\n",
    "```"
   ]
  },
  {
   "cell_type": "markdown",
   "metadata": {},
   "source": [
    "# The game, *eat cheese*"
   ]
  },
  {
   "cell_type": "markdown",
   "metadata": {},
   "source": [
    "A rat runs on an island and tries to eat as much as possible. The island is subdivided into $N\\times N$ cells, in which there are cheese (+0.5) and poisonous cells (-1). The rat has a visibility of 2 cells (thus it can see $5^2$ cells). The rat is given a time $T$ to accumulate as much food as possible. It can perform 4 actions: going up, down, left, right. \n",
    "\n",
    "The goal is to code an agent to solve this task that will learn by trial and error. We propose the following environment:"
   ]
  },
  {
   "cell_type": "code",
   "execution_count": 5,
   "metadata": {},
   "outputs": [],
   "source": [
    "class Environment(object):\n",
    "    def __init__(self, grid_size=10, max_time=500, temperature=0.1):\n",
    "        grid_size = grid_size+4\n",
    "        self.grid_size = grid_size\n",
    "        self.max_time = max_time\n",
    "        self.temperature = temperature\n",
    "\n",
    "        #board on which one plays\n",
    "        self.board = np.zeros((grid_size,grid_size))\n",
    "        self.position = np.zeros((grid_size,grid_size))\n",
    "\n",
    "        # coordinate of the cat\n",
    "        self.x = 0\n",
    "        self.y = 1\n",
    "\n",
    "        # self time\n",
    "        self.t = 0\n",
    "\n",
    "        self.scale=16\n",
    "\n",
    "        self.to_draw = np.zeros((max_time+2, grid_size*self.scale, grid_size*self.scale, 3))\n",
    "\n",
    "\n",
    "    def draw(self,e):\n",
    "        skvideo.io.vwrite(str(e) + '.mp4', self.to_draw)\n",
    "\n",
    "    def get_frame(self,t):\n",
    "        b = np.zeros((self.grid_size,self.grid_size,3))+128\n",
    "        b[self.board>0,0] = 256\n",
    "        b[self.board < 0, 2] = 256\n",
    "        b[self.x,self.y,:]=256\n",
    "        b[-2:,:,:]=0\n",
    "        b[:,-2:,:]=0\n",
    "        b[:2,:,:]=0\n",
    "        b[:,:2,:]=0\n",
    "        \n",
    "        b =  cv2.resize(b, None, fx=self.scale, fy=self.scale, interpolation=cv2.INTER_NEAREST)\n",
    "\n",
    "        self.to_draw[t,:,:,:]=b\n",
    "\n",
    "\n",
    "    def act(self, action):\n",
    "        \"\"\"This function returns the new state, reward and decides if the\n",
    "        game ends.\"\"\"\n",
    "\n",
    "        self.get_frame(int(self.t))\n",
    "\n",
    "        self.position = np.zeros((self.grid_size, self.grid_size))\n",
    "\n",
    "        self.position[0:2,:]= -1\n",
    "        self.position[:,0:2] = -1\n",
    "        self.position[-2:, :] = -1\n",
    "        self.position[-2:, :] = -1\n",
    "\n",
    "        self.position[self.x, self.y] = 1\n",
    "        if action == 0:\n",
    "            if self.x == self.grid_size-3:\n",
    "                self.x = self.x-1\n",
    "            else:\n",
    "                self.x = self.x + 1\n",
    "        elif action == 1:\n",
    "            if self.x == 2:\n",
    "                self.x = self.x+1\n",
    "            else:\n",
    "                self.x = self.x-1\n",
    "        elif action == 2:\n",
    "            if self.y == self.grid_size - 3:\n",
    "                self.y = self.y - 1\n",
    "            else:\n",
    "                self.y = self.y + 1\n",
    "        elif action == 3:\n",
    "            if self.y == 2:\n",
    "                self.y = self.y + 1\n",
    "            else:\n",
    "                self.y = self.y - 1\n",
    "        else:\n",
    "            RuntimeError('Error: action not recognized')\n",
    "\n",
    "        self.t = self.t + 1\n",
    "        reward = self.board[self.x, self.y]\n",
    "        self.board[self.x, self.y] = 0\n",
    "        game_over = self.t > self.max_time\n",
    "        state = np.concatenate((self.board.reshape(self.grid_size, self.grid_size,1),\n",
    "                        self.position.reshape(self.grid_size, self.grid_size,1)),axis=2)\n",
    "        state = state[self.x-2:self.x+3,self.y-2:self.y+3,:]\n",
    "\n",
    "        return state, reward, game_over\n",
    "\n",
    "    def reset(self):\n",
    "        \"\"\"This function resets the game and returns the initial state\"\"\"\n",
    "\n",
    "        self.x = np.random.randint(3, self.grid_size-3, size=1)[0]\n",
    "        self.y = np.random.randint(3, self.grid_size-3, size=1)[0]\n",
    "\n",
    "\n",
    "        bonus = 0.5*np.random.binomial(1,self.temperature,size=self.grid_size**2)\n",
    "        bonus = bonus.reshape(self.grid_size,self.grid_size)\n",
    "\n",
    "        malus = -1.0*np.random.binomial(1,self.temperature,size=self.grid_size**2)\n",
    "        malus = malus.reshape(self.grid_size, self.grid_size)\n",
    "\n",
    "        self.to_draw = np.zeros((self.max_time+2, self.grid_size*self.scale, self.grid_size*self.scale, 3))\n",
    "\n",
    "\n",
    "        malus[bonus>0]=0\n",
    "\n",
    "        self.board = bonus + malus\n",
    "\n",
    "        self.position = np.zeros((self.grid_size, self.grid_size))\n",
    "        self.position[0:2,:]= -1\n",
    "        self.position[:,0:2] = -1\n",
    "        self.position[-2:, :] = -1\n",
    "        self.position[-2:, :] = -1\n",
    "        self.board[self.x,self.y] = 0\n",
    "        self.t = 0\n",
    "\n",
    "        state = np.concatenate((\n",
    "                               self.board.reshape(self.grid_size, self.grid_size,1),\n",
    "                        self.position.reshape(self.grid_size, self.grid_size,1)),axis=2)\n",
    "\n",
    "        state = state[self.x - 2:self.x + 3, self.y - 2:self.y + 3, :]\n",
    "        return state"
   ]
  },
  {
   "cell_type": "markdown",
   "metadata": {},
   "source": [
    "The following elements are important because they correspond to the hyper parameters for this project:"
   ]
  },
  {
   "cell_type": "code",
   "execution_count": 21,
   "metadata": {},
   "outputs": [],
   "source": [
    "# parameters\n",
    "size = 13\n",
    "T=200\n",
    "temperature=0.3\n",
    "epochs_train=60 # set small when debugging\n",
    "epochs_test=30 # set small when debugging\n",
    "\n",
    "# display videos\n",
    "def display_videos(name):\n",
    "    video = io.open(name, 'r+b').read()\n",
    "    encoded = base64.b64encode(video)\n",
    "    return '''<video alt=\"test\" controls>\n",
    "                <source src=\"data:video/mp4;base64,{0}\" type=\"video/mp4\" />\n",
    "             </video>'''.format(encoded.decode('ascii'))"
   ]
  },
  {
   "cell_type": "markdown",
   "metadata": {},
   "source": [
    "__Question 2__ Explain the use of the arrays ```position``` and ```board```."
   ]
  },
  {
   "cell_type": "markdown",
   "metadata": {},
   "source": [
    " The board is composed of the static part of the game (reward, bonus). The position is used to get the position of the rat.\n",
    " \n",
    " Each of them are referenced in the extented map (e.i. the real map added with the 2 pixel in each limit)"
   ]
  },
  {
   "cell_type": "markdown",
   "metadata": {},
   "source": [
    "## Random Agent"
   ]
  },
  {
   "cell_type": "markdown",
   "metadata": {},
   "source": [
    "***\n",
    "__Question 3__ Implement a random Agent (only ```learned_act``` needs to be implemented):"
   ]
  },
  {
   "cell_type": "code",
   "execution_count": 7,
   "metadata": {},
   "outputs": [],
   "source": [
    "class RandomAgent(Agent):\n",
    "    def __init__(self):\n",
    "        super(RandomAgent, self).__init__()\n",
    "        pass\n",
    "\n",
    "    def learned_act(self, s):\n",
    "        a = np.random.randint(4)\n",
    "        return a"
   ]
  },
  {
   "cell_type": "markdown",
   "metadata": {},
   "source": [
    "***\n",
    "***\n",
    "__Question 4__ Visualize the game moves. You need to fill in the following function for the evaluation:"
   ]
  },
  {
   "cell_type": "code",
   "execution_count": 8,
   "metadata": {},
   "outputs": [],
   "source": [
    "def test(agent,env,epochs,prefix=''):\n",
    "    # Number of won games\n",
    "    score = 0\n",
    "        \n",
    "    for e in range(epochs):\n",
    "        # At each epoch, we restart to a fresh game and get the initial state\n",
    "        state = env.reset()\n",
    "        # This assumes that the games will terminate\n",
    "        game_over = False\n",
    "\n",
    "        win = 0\n",
    "        lose = 0\n",
    "        \n",
    "        while not game_over:\n",
    "            # The agent performs an action\n",
    "            action = agent.act(state)\n",
    "\n",
    "            # Apply an action to the environment, get the next state, the reward\n",
    "            # and if the games end\n",
    "            prev_state = state\n",
    "            state, reward, game_over = env.act(action)\n",
    "\n",
    "            # Update the counters\n",
    "            if reward > 0:\n",
    "                win = win + reward\n",
    "            if reward < 0:\n",
    "                lose = lose -reward\n",
    "        \n",
    "        # Save as a mp4\n",
    "        env.draw(prefix+str(e))\n",
    "\n",
    "        # Update stats\n",
    "        score = score + win-lose\n",
    "\n",
    "        print(\"Win/lose count {}/{}. Average score ({})\"\n",
    "              .format(win, lose, score/(1+e)))\n",
    "    print('Final score: '+str(score/epochs))"
   ]
  },
  {
   "cell_type": "code",
   "execution_count": 9,
   "metadata": {},
   "outputs": [
    {
     "name": "stdout",
     "output_type": "stream",
     "text": [
      "Win/lose count 12.5/7.0. Average score (5.5)\n",
      "Win/lose count 10.5/9.0. Average score (3.5)\n",
      "Win/lose count 15.0/18.0. Average score (1.3333333333333333)\n",
      "Win/lose count 10.5/12.0. Average score (0.625)\n",
      "Win/lose count 7.5/10.0. Average score (0.0)\n",
      "Win/lose count 7.0/17.0. Average score (-1.6666666666666667)\n",
      "Win/lose count 10.0/16.0. Average score (-2.2857142857142856)\n",
      "Win/lose count 12.5/13.0. Average score (-2.0625)\n",
      "Win/lose count 9.0/16.0. Average score (-2.611111111111111)\n",
      "Win/lose count 12.5/12.0. Average score (-2.3)\n",
      "Final score: -2.3\n"
     ]
    },
    {
     "data": {
      "text/html": [
       "<video alt=\"test\" controls>\n",
       "                <source src=\"data:video/mp4;base64,AAAAIGZ0eXBpc29tAAACAGlzb21pc28yYXZjMW1wNDEAAAAIZnJlZQAAGIhtZGF0AAACrQYF//+p3EXpvebZSLeWLNgg2SPu73gyNjQgLSBjb3JlIDE1NyByMjkzMiAzMDNjNDg0IC0gSC4yNjQvTVBFRy00IEFWQyBjb2RlYyAtIENvcHlsZWZ0IDIwMDMtMjAxOCAtIGh0dHA6Ly93d3cudmlkZW9sYW4ub3JnL3gyNjQuaHRtbCAtIG9wdGlvbnM6IGNhYmFjPTEgcmVmPTMgZGVibG9jaz0xOjA6MCBhbmFseXNlPTB4MToweDExMSBtZT1oZXggc3VibWU9NyBwc3k9MSBwc3lfcmQ9MS4wMDowLjAwIG1peGVkX3JlZj0xIG1lX3JhbmdlPTE2IGNocm9tYV9tZT0xIHRyZWxsaXM9MSA4eDhkY3Q9MCBjcW09MCBkZWFkem9uZT0yMSwxMSBmYXN0X3Bza2lwPTEgY2hyb21hX3FwX29mZnNldD00IHRocmVhZHM9NiBsb29rYWhlYWRfdGhyZWFkcz0xIHNsaWNlZF90aHJlYWRzPTAgbnI9MCBkZWNpbWF0ZT0xIGludGVybGFjZWQ9MCBibHVyYXlfY29tcGF0PTAgY29uc3RyYWluZWRfaW50cmE9MCBiZnJhbWVzPTMgYl9weXJhbWlkPTIgYl9hZGFwdD0xIGJfYmlhcz0wIGRpcmVjdD0xIHdlaWdodGI9MSBvcGVuX2dvcD0wIHdlaWdodHA9MiBrZXlpbnQ9MjUwIGtleWludF9taW49MjUgc2NlbmVjdXQ9NDAgaW50cmFfcmVmcmVzaD0wIHJjX2xvb2thaGVhZD00MCByYz1jcmYgbWJ0cmVlPTEgY3JmPTIzLjAgcWNvbXA9MC42MCBxcG1pbj0wIHFwbWF4PTY5IHFwc3RlcD00IGlwX3JhdGlvPTEuNDAgYXE9MToxLjAwAIAAAALTZYiEADv//vb8/AptUwn/LZ/+iL/lb+9P2a61uFE7M7QacwPQC/3cd/Xi1bCrc27LcdG8bJkAU3Roif7wCe9n2YfhfPwKXAUD8CmkyNjbSaAxHhrcKPt+8h20kW9fPXO+e2IoqlKQVFCx3lgbW7RFPeAPowBZcFl1cuUoCa25TWtH4GmTo2WiW0AqJB0+zohj9ixp+SUBUI1GoLLar06HMRraQMy3K32wdobtoOh1lyBTu9M0g6Z7QqFMfl5QT54U/5npgAAAdQ3X2IhKqkty7iqpet8pPK2ctIp00+4HpU4Et0vbZL/ijlU90Zsd2hrBw5O0myL6v6BdqcvehBvtoPhzEpifdOqx7k/jZlW5/gOMxq/vklLmq+uJhJx5og5VqJKBgsK5gJN4RP7PZrnzceDeI1HV6K3SOgkj6yFrp4TI7nmA9AalRkUkFPLXC3qodsz/EPuCd/XSsBBX7JNoJsoRc9Ooqewf7cPR7AxsJPt/6hDuEQ/+RtGKRLvTi0rXLiRNbXdxCDeNrO8RjIEd2LTOdNLvH5cNqrYSrHh77j9zWbYd+P6EeDhORViENxI6MOU3MwdA1nHaAdhBjGAokqR+NV558UwfCNFX+OYh4OWGMK0/PhLYj48VJ9iTTuB/MYq/JrMGLAFhoTcZ69wTCDKhDl1cFLn9R95sNVyjoF0AI9XwAGnsqKWNLIczA6Srq6OfxWald47bquZiRHl+xTsho5wFWNx88bgLSqHW5pGXxuNPDb0kPUqGMiK6Q+5Ab5BEOL/nHGov7r2OphyI4+S7XTHKgHGDSI65M3Hbhs3xs5bmb6zuZLiY0lX0McNhuXlRXaBz6E4UipQJ+t1YFtBTUDSI/fiExqG/sdtgcR7jNAnInuRq3eqgouo9RqAYcLIjmfQDnMU0VU55iJFgJ1xrbY4kmOrNBZWwtPBhB5TeuIF9JLD7BdCNMMcpuZawAALjAAAAGkGaImxDv/6plgAgB72rBmgDvVjh2HEYprVAAAAADwGeQXkK/wA0xLSpFDKr5wAAABdBmkY8IZMphDv//qmWACAKnD/faX3QHgAAAA9BnmRqU8L/ACa5+zcEE/EAAAAPAZ6DdEK/ACC2jFwH5eDBAAAAEAGehWpCvwA0zqnkwPXuRYEAAAAiQZqKSahBaJlMCHf//qmWACI/Hn5t4B/fcP+HyqBaKYp8eQAAABNBnqhFESwv/wAo8rbtV14W5dUIAAAADwGex3RCvwA3Uh+N6gjXlQAAABABnslqQr8AN0R251oYXmBBAAAAJ0GazkmoQWyZTAh3//6plgA2nv1cyyxhVXgUzXFTwKJPXiHVt5IHgAAAABJBnuxFFSwv/wA/idPBOYOehJgAAAAQAZ8LdEK/ADdSLKvAiu47gQAAABABnw1qQr8AWKx5bhs2pt+BAAAAHEGbEkmoQWyZTAhv//6nhABxAfbzrOnu83Z/nRkAAAAQQZ8wRRUsL/8AQ3POpQbTZgAAAA8Bn090Qr8AWKMYuA/LZqAAAAAQAZ9RakK/AF0sI8lzPknHgQAAABpBm1VJqEFsmUwIb//+p4QAc8HhTrOn3W30gAAAAA9Bn3NFFSwr/wBfiNA11sAAAAANAZ+UakK/AF+sSLeutwAAABdBm5lJqEFsmUwIb//+p4QAtfup+1yXgAAAAA5Bn7dFFSwv/wBsBFsxYQAAABABn9Z0Qr8AkwgDn9aByQrBAAAAEAGf2GpCvwCS2td1kMOSFYAAAAAaQZvaSahBbJlMCG///qeEAHaB4U6zp91t7oEAAAAcQZv8SeEKUmUwUVLDf/6nhAC1BUrNua8dPtWuIAAAABABnhtqQr8AlrzRMiaVm2zBAAAAGUGaHUnhDomUwId//qmWAIwiw3RiEc+v4uEAAAAjQZohSeEPJlMCHf/+qZYEn36uZZZ8+23ns2WlUhieG3QTy7oAAAAVQZ5fRRE8L/8Bw6uSze/XIR2obD7uAAAAEAGefnRCvwFsy1QOnahpxYEAAAAPAZ5gakK/Al7O9HDZtKkTAAAAGkGaZEmoQWiZTAh3//6plgSfhR9ABh0e0nXBAAAAD0GegkURLCv/Al4P0xhbQAAAAA0BnqNqQr8CX2A9NIODAAAAHkGaqEmoQWyZTAh3//6plgEX8efwanT6oWQphTFvwQAAABBBnsZFFSwv/wEOz7b5NiatAAAADwGe5XRCvwF1jGLgPyz0IQAAAA8BnudqQr8BdW26UaQ8SasAAAAZQZrsSahBbJlMCG///qeEAiJR1x3sH6vJWAAAABBBnwpFFSwv/wEOoDNdYMnBAAAAEAGfKXRCvwF1y1QOnahpwIAAAAAPAZ8rakK/AXXlA8mCLLKAAAAAGUGbL0moQWyZTAhv//6nhAJBFaQQif4U8f8AAAASQZ9NRRUsK/8CXvwOiQcK/4alAAAAEAGfbmpCvwJ12hzfDZI+LuEAAAAgQZtxSahBbJlMFEwz//6eEAknjBAUz8Sz6ITlW4q4MekAAAAQAZ+QakK/AYlm5rjxVtG5YAAAABhBm5JJ4QpSZTAhn/6eEAS34h/bIY+sIW0AAAAYQZuzSeEOiZTAhv/+p4QAyPsHr2Z8EV1bAAAAH0Gb1UnhDyZTBRE8M//+nhAEcEOdNgvRHX37RltWaSAAAAAQAZ/0akK/AO0z5jdDkg4oOQAAABhBm/ZJ4Q8mUwIZ//6eEAR34h51ugZIZVQAAAAYQZoXSeEPJlMCG//+p4QBHfjpj/D6ttlfAAAAGEGaOEnhDyZTAhv//qeEARX46Y/w+rbZZwAAABtBmltJ4Q8mUwIb//6nhAEN+jnyTTnYGQpz1BAAAAASQZ55RRE8K/8A3JHbnWT5NpOBAAAAEAGemmpCvwDXkyTTfSQcUnAAAAASQZqfSahBaJlMCG///qeEAAEnAAAAE0GevUURLC//AGmiW5TMfMRFWd0AAAAQAZ7cdEK/AI67Unlfkps20AAAABABnt5qQr8Aju0Qm4z69NtoAAAAGkGawUmoQWyZTBRMM//+nhACs+6b7X9L691xAAAAEAGe4GpCvwCOyyGH0BIOLegAAAAYQZriSeEKUmUwIZ/+nhABxvX38iRH1hHdAAAAGUGbA0nhDomUwIb//qeEAEu+On1HGhIcWUAAAAAYQZskSeEPJlMCG//+p4QAMT7B69mfBFhlAAAAGUGbR0nhDyZTAhv//qeEAC/+wf4Tgt0Jd0EAAAAPQZ9lRRE8K/8AJrK4EqTBAAAADQGfhmpCvwAmwaw8VScAAAAcQZuKSahBaJlMCG///qeEAC6+6n7ta0gtay9D7QAAABBBn6hFESwr/wAlu0QmwvKpAAAAEAGfyWpCvwAltrXdZDDk8YEAAAAZQZvNSahBbJlMCGf//p4QAHR9fd2nN3FwugAAAA9Bn+tFFSwr/wAYgjQNtMAAAAAPAZ4MakK/ABedROQMjaObAAAAGkGaDkmoQWyZTAhv//6nhAAdH4E/6CtZlNjvAAAAGEGaL0nhClJlMCG//qeEABxvYPXsz4IsrwAAABlBmlBJ4Q6JlMCHf/6plgAN97S8LUE/sD2gAAAAEkGadEnhDyZTAh3//qmWAACVgAAAAAxBnpJFETwv/wAAsoEAAAAPAZ6xdEK/ABXrKOI7LsuHAAAADwGes2pCvwAV6yjdZ6s+xwAAABxBmrhJqEFomUwIb//+p4QAKNitmJ/q7e6n7WS5AAAAEEGe1kURLC//ABiBHGdysOAAAAAQAZ71dEK/ACC+okT4sxSAsQAAAA8BnvdqQr8AIa80TUlOboEAAAAZQZr8SahBbJlMCG///qeEACke6n7rh0tZLgAAABBBnxpFFSwv/wAYgRxncrDhAAAAEAGfOXRCvwAgrtSeV+Sm4LAAAAAPAZ87akK/ABYuUDyYI3uBAAAAGkGbPUmoQWyZTAhv//6nhAAbl1aQQif5bl+BAAAAGUGbXknhClJlMCHf/qmWAA446flNGP1pZ8AAAAAdQZtiSeEOiZTAh3/+qZYADv+w3zLLPn2+7c71iL8AAAAQQZ+ARRE8L/8AEd0EgR+2kQAAAA8Bn790Qr8AI8IA6E5L/MAAAAAQAZ+hakK/ABiHVPJcz5L9gQAAABpBm6VJqEFomUwIb//+p4QAHlB4U6zp91wpgAAAABJBn8NFESwr/wAZJ1b2FgvzTYEAAAAOAZ/kakK/ABknXx5wRG0AAAAgQZvnSahBbJlMFEw7//6plgAPV7S/qtfAcP3PZN17+YEAAAAQAZ4GakK/ABkiW068AUA7gQAAABZBmgtJ4QpSZTAh3/6plgAGq+FH3SZgAAAADkGeKUU0TC//AAfFOe0wAAAAEAGeSHRCvwAKZZR34APuMUEAAAAPAZ5KakK/AArKjRBajzBTAAAAJkGaT0moQWiZTAhv//6nhAAefcZr8QjrCf/hKc6r//zV/oey+TRwAAAAEEGebUURLC//ABJaAg3yMeEAAAAQAZ6MdEK/ABkpLXgdMpw7gQAAABgBno5qQr8AGYH/V8JSp//xCA5J/9JVbY8AAAAfQZqRSahBbJlMFEw3//6nhAAf31huZZYmR33a0uLgygAAABABnrBqQr8AGmdU8lzPku+AAAAAGEGatEnhClJlMCG//qeEAB/fYPXsz4IshwAAABFBntJFNEwr/wAbBm5rjLB+1wAAAA4BnvNqQr8AGwJDMm5LrgAAAB1BmvhJqEFomUwIb//+p4QAHy9g/y10g1bMUJFClwAAABBBnxZFESwv/wAS2f9WNk/4AAAAEAGfNXRCvwAZwAAMkt/rxUEAAAAPAZ83akK/ABBXmiakp7SBAAAAGUGbOUmoQWyZTAhv//6nhAAT/3U4/w+rbrsAAAAqQZtdSeEKUmUwIb/+p4QAHR9l9XwKa+oV+BSpbPwKZ2BjbrF9HmJN+4ClAAAAE0Gfe0U0TC//ABFc/ctdvFvk5XMAAAAQAZ+adEK/AA+HDAZIeTfxgQAAABABn5xqQr8AF+dqW4bNqlCBAAAAGUGbnkmoQWiZTAhv//6nhAAdoHhRx7JcLoAAAAAZQZuhSeEKUmUwIb/+p4QAHc9g/wnBboTgQAAAABFBn99FNEwr/wAZJm5rj3vVGwAAAA4Bn+BqQr8AGSJDPRFePgAAABlBm+RJqEFomUwIb//+p4QAE2+OmP8Pq27DAAAAEkGeAkURLCv/AA+IMAgFMA5yYAAAAA4BniNqQr8AD41+ke5/fwAAABpBmiVJqEFsmUwIb//+p4QAEu+On1HGhIdZQQAAABpBmklJ4QpSZTAhv/6nhAAMT7B/nlTkt0XBUQAAABBBnmdFNEwv/wAHQTqN7Bj5AAAADwGehnRCvwAJ9GMXAfmiIAAAABABnohqQr8ACjxtdvawyUhgAAAAGkGaikmoQWiZTAhv//6nhAAH99g/wnBboXhBAAAAGEGarEnhClJlMFESw7/+qZYAArvvq+65wAAAAA8BnstqQr8ABFXmiC1HmX4AAAAcQZrQSeEOiZTAh3/+qZYAA+bRIzbD++r4wznKyQAAABFBnu5FFTwv/wAEtoDl3cJVwQAAABABnw10Qr8ABprKu5DZUq7hAAAADwGfD2pCvwAGcsWBdf44YAAAABJBmxRJqEFomUwIb//+p4QAAScAAAAMQZ8yRREsL/8AALKBAAAAEAGfUXRCvwAGXzk4jsuzg4AAAAAQAZ9TakK/AAn0bXdZDDmhgAAAAB1Bm1ZJqEFsmUwUTDf//qeEAAyLq1TH+rdvsH6+RQAAABABn3VqQr8ACj2EeTA9fFmAAAAAG0GbeknhClJlMCG//qeEABLR81TWbc146fa5qQAAABVBn5hFNEwv/wAL8klyZt8kMkE1GzEAAAAPAZ+3dEK/AA/kYeUNAzafAAAADwGfuWpCvwAP4ClM2zI22wAAABxBm7xJqEFomUwU8N/+p4QAHEB4muNUS/RP8ijIAAAAEAGf22pCvwAX4FjXvNKztsEAAAAYQZvdSeEKUmUwIb/+p4QAHG9g9ezPgiyvAAAAHkGb/0nhDomUwU0TDf/+p4QAG79g/zylStz7zawfMAAAABABnh5qQr8AFrbkMPoCQc8oAAAAGUGaAEnhDyZTAh3//qmWAAmBRzrQ9X3yUcEAAAAZQZojSeEPJlMCHf/+qZYADpJkJNw4KPm4sAAAABJBnkFFETwr/wAX524XYb6XonkAAAAPAZ5iakK/ABfnbhOCBzpgAAAAHUGaZ0moQWiZTAhv//6nhAAueK1TH+jif5bJS5CBAAAAEEGehUURLC//ABulSb+bOE0AAAAPAZ6kdEK/ACTCAOhOS/rBAAAADwGepmpCvwAluzy3DZtUAwAAABlBmqpJqEFsmUwIb//+p4QAL66tIIRP8twDAAAAEkGeyEUVLCv/ADoPwOilpLBoPAAAABABnulqQr8AO2rg1x4q2l8hAAAAGkGa60moQWyZTAh3//6plgAYqCyuM0v7YEbAAAAAEkGbD0nhClJlMCHf/qmWAACVgAAAAAxBny1FNEwv/wAAsoEAAAAPAZ9MdEK/ACj2jujtvhYfAAAAEAGfTmpCvwAnVlHezx9vTIEAAAAcQZtTSahBaJlMCG///qeEAElHzVNZtzXjp9q9+AAAABBBn3FFESwv/wAsVAitKKXMAAAADwGfkHRCvwAn0YxcB+XUIQAAABABn5JqQr8AO2z5jdDkg5A4AAAAGUGblkmoQWyZTAhv//6nhABJvjpj/D6tt1UAAAAPQZ+0RRUsK/8AO2CuGwPBAAAADwGf1WpCvwBa42u77vecIAAAAB1Bm9hJqEFsmUwUTDf//qeEAEe+On3MjC2YoRy/pQAAABABn/dqQr8AOgC851oYXlvBAAAAGEGb+0nhClJlMCG//qeEAC2e6nH+H1bcEwAAAA9BnhlFNEwr/wAksm4bL0EAAAANAZ46akK/ACTBpFvZegAAABxBmj1JqEFomUwU8N/+p4QALH7qfuZGFsxQjmJVAAAAEAGeXGpCvwAjsnznWhheikEAAAAZQZpASeEKUmUwIb/+p4QAHEB4U6zp91w5gAAAABJBnn5FNEwr/wAXSwr2FgvzWYAAAAAQAZ6fakK/ABdLHluGzapVgQAAABxBmoJJqEFomUwU8N/+p4QAHG9g/zyCtUyEi4EYAAAAEAGeoWpCvwAX5m5rjxVtUqEAAAAYQZqlSeEKUmUwIZ/+nhAAcQpxz+HOb63bAAAAEkGew0U0TCv/ABfnbhdhvpeieQAAAA8BnuRqQr8AF+duE4IHOmEAAAAaQZrpS6hCEFokRggoB/IB/YeAIV/+OEAAEXEAAAAjQZ8HRREsL/8CAdzqS9szCrmA6Bq1qFwJQBlok8LfMpM0nDEAAAAQAZ8mdEK/ACTCAOf1oHJ6wAAAACcBnyhqQr8Cr2PtQcTdqsNJJuWqhgcstbvOtOK9Qa9KALPqctoSm6AAAAvAbW9vdgAAAGxtdmhkAAAAAAAAAAAAAAAAAAAD6AAAH5AAAQAAAQAAAAAAAAAAAAAAAAEAAAAAAAAAAAAAAAAAAAABAAAAAAAAAAAAAAAAAABAAAAAAAAAAAAAAAAAAAAAAAAAAAAAAAAAAAAAAAAAAgAACup0cmFrAAAAXHRraGQAAAADAAAAAAAAAAAAAAABAAAAAAAAH5AAAAAAAAAAAAAAAAAAAAAAAAEAAAAAAAAAAAAAAAAAAAABAAAAAAAAAAAAAAAAAABAAAAAARAAAAEQAAAAAAAkZWR0cwAAABxlbHN0AAAAAAAAAAEAAB+QAAAEAAABAAAAAApibWRpYQAAACBtZGhkAAAAAAAAAAAAAAAAAAAyAAABlABVxAAAAAAALWhkbHIAAAAAAAAAAHZpZGUAAAAAAAAAAAAAAABWaWRlb0hhbmRsZXIAAAAKDW1pbmYAAAAUdm1oZAAAAAEAAAAAAAAAAAAAACRkaW5mAAAAHGRyZWYAAAAAAAAAAQAAAAx1cmwgAAAAAQAACc1zdGJsAAAAlXN0c2QAAAAAAAAAAQAAAIVhdmMxAAAAAAAAAAEAAAAAAAAAAAAAAAAAAAAAARABEABIAAAASAAAAAAAAAABAAAAAAAAAAAAAAAAAAAAAAAAAAAAAAAAAAAAAAAAAAAAGP//AAAAL2F2Y0MB9AAN/+EAF2f0AA2RmygiEdCAAAADAIAAABkHihTLAQAFaOvjxEgAAAAYc3R0cwAAAAAAAAABAAAAygAAAgAAAAAUc3RzcwAAAAAAAAABAAAAAQAABZhjdHRzAAAAAAAAALEAAAABAAAEAAAAAAEAAAYAAAAAAQAAAgAAAAABAAAKAAAAAAEAAAQAAAAAAQAAAAAAAAABAAACAAAAAAEAAAoAAAAAAQAABAAAAAABAAAAAAAAAAEAAAIAAAAAAQAACgAAAAABAAAEAAAAAAEAAAAAAAAAAQAAAgAAAAABAAAKAAAAAAEAAAQAAAAAAQAAAAAAAAABAAACAAAAAAEAAAgAAAAAAgAAAgAAAAABAAAKAAAAAAEAAAQAAAAAAQAAAAAAAAABAAACAAAAAAEAAAQAAAAAAQAABgAAAAABAAACAAAAAAEAAAQAAAAAAQAACgAAAAABAAAEAAAAAAEAAAAAAAAAAQAAAgAAAAABAAAIAAAAAAIAAAIAAAAAAQAACgAAAAABAAAEAAAAAAEAAAAAAAAAAQAAAgAAAAABAAAKAAAAAAEAAAQAAAAAAQAAAAAAAAABAAACAAAAAAEAAAgAAAAAAgAAAgAAAAABAAAGAAAAAAEAAAIAAAAAAgAABAAAAAABAAAGAAAAAAEAAAIAAAAAAwAABAAAAAABAAAIAAAAAAIAAAIAAAAAAQAACgAAAAABAAAEAAAAAAEAAAAAAAAAAQAAAgAAAAABAAAGAAAAAAEAAAIAAAAAAwAABAAAAAABAAAIAAAAAAIAAAIAAAAAAQAACAAAAAACAAACAAAAAAEAAAgAAAAAAgAAAgAAAAADAAAEAAAAAAEAAAoAAAAAAQAABAAAAAABAAAAAAAAAAEAAAIAAAAAAQAACgAAAAABAAAEAAAAAAEAAAAAAAAAAQAAAgAAAAABAAAKAAAAAAEAAAQAAAAAAQAAAAAAAAABAAACAAAAAAIAAAQAAAAAAQAACgAAAAABAAAEAAAAAAEAAAAAAAAAAQAAAgAAAAABAAAIAAAAAAIAAAIAAAAAAQAABgAAAAABAAACAAAAAAEAAAoAAAAAAQAABAAAAAABAAAAAAAAAAEAAAIAAAAAAQAACgAAAAABAAAEAAAAAAEAAAAAAAAAAQAAAgAAAAABAAAGAAAAAAEAAAIAAAAAAQAACAAAAAACAAACAAAAAAEAAAoAAAAAAQAABAAAAAABAAAAAAAAAAEAAAIAAAAAAQAABAAAAAABAAAKAAAAAAEAAAQAAAAAAQAAAAAAAAABAAACAAAAAAEAAAQAAAAAAQAACAAAAAACAAACAAAAAAEAAAgAAAAAAgAAAgAAAAABAAAEAAAAAAEAAAoAAAAAAQAABAAAAAABAAAAAAAAAAEAAAIAAAAAAQAABAAAAAABAAAGAAAAAAEAAAIAAAAAAQAACgAAAAABAAAEAAAAAAEAAAAAAAAAAQAAAgAAAAABAAAKAAAAAAEAAAQAAAAAAQAAAAAAAAABAAACAAAAAAEAAAYAAAAAAQAAAgAAAAABAAAKAAAAAAEAAAQAAAAAAQAAAAAAAAABAAACAAAAAAEAAAYAAAAAAQAAAgAAAAABAAAEAAAAAAEAAAYAAAAAAQAAAgAAAAABAAAEAAAAAAEAAAgAAAAAAgAAAgAAAAABAAAKAAAAAAEAAAQAAAAAAQAAAAAAAAABAAACAAAAAAEAAAgAAAAAAgAAAgAAAAABAAAEAAAAAAEAAAoAAAAAAQAABAAAAAABAAAAAAAAAAEAAAIAAAAAAQAACgAAAAABAAAEAAAAAAEAAAAAAAAAAQAAAgAAAAABAAAIAAAAAAIAAAIAAAAAAQAABgAAAAABAAACAAAAAAEAAAgAAAAAAgAAAgAAAAABAAAGAAAAAAEAAAIAAAAAAQAACAAAAAACAAACAAAAAAEAAAYAAAAAAQAAAgAAAAABAAAIAAAAAAIAAAIAAAAAAQAACgAAAAABAAAEAAAAAAEAAAAAAAAAAQAAAgAAAAAcc3RzYwAAAAAAAAABAAAAAQAAAMoAAAABAAADPHN0c3oAAAAAAAAAAAAAAMoAAAWIAAAAHgAAABMAAAAbAAAAEwAAABMAAAAUAAAAJgAAABcAAAATAAAAFAAAACsAAAAWAAAAFAAAABQAAAAgAAAAFAAAABMAAAAUAAAAHgAAABMAAAARAAAAGwAAABIAAAAUAAAAFAAAAB4AAAAgAAAAFAAAAB0AAAAnAAAAGQAAABQAAAATAAAAHgAAABMAAAARAAAAIgAAABQAAAATAAAAEwAAAB0AAAAUAAAAFAAAABMAAAAdAAAAFgAAABQAAAAkAAAAFAAAABwAAAAcAAAAIwAAABQAAAAcAAAAHAAAABwAAAAfAAAAFgAAABQAAAAWAAAAFwAAABQAAAAUAAAAHgAAABQAAAAcAAAAHQAAABwAAAAdAAAAEwAAABEAAAAgAAAAFAAAABQAAAAdAAAAEwAAABMAAAAeAAAAHAAAAB0AAAAWAAAAEAAAABMAAAATAAAAIAAAABQAAAAUAAAAEwAAAB0AAAAUAAAAFAAAABMAAAAeAAAAHQAAACEAAAAUAAAAEwAAABQAAAAeAAAAFgAAABIAAAAkAAAAFAAAABoAAAASAAAAFAAAABMAAAAqAAAAFAAAABQAAAAcAAAAIwAAABQAAAAcAAAAFQAAABIAAAAhAAAAFAAAABQAAAATAAAAHQAAAC4AAAAXAAAAFAAAABQAAAAdAAAAHQAAABUAAAASAAAAHQAAABYAAAASAAAAHgAAAB4AAAAUAAAAEwAAABQAAAAeAAAAHAAAABMAAAAgAAAAFQAAABQAAAATAAAAFgAAABAAAAAUAAAAFAAAACEAAAAUAAAAHwAAABkAAAATAAAAEwAAACAAAAAUAAAAHAAAACIAAAAUAAAAHQAAAB0AAAAWAAAAEwAAACEAAAAUAAAAEwAAABMAAAAdAAAAFgAAABQAAAAeAAAAFgAAABAAAAATAAAAFAAAACAAAAAUAAAAEwAAABQAAAAdAAAAEwAAABMAAAAhAAAAFAAAABwAAAATAAAAEQAAACAAAAAUAAAAHQAAABYAAAAUAAAAIAAAABQAAAAcAAAAFgAAABMAAAAeAAAAJwAAABQAAAArAAAAFHN0Y28AAAAAAAAAAQAAADAAAABidWR0YQAAAFptZXRhAAAAAAAAACFoZGxyAAAAAAAAAABtZGlyYXBwbAAAAAAAAAAAAAAAAC1pbHN0AAAAJal0b28AAAAdZGF0YQAAAAEAAAAATGF2ZjU4LjE3LjEwNg==\" type=\"video/mp4\" />\n",
       "             </video>"
      ],
      "text/plain": [
       "<IPython.core.display.HTML object>"
      ]
     },
     "execution_count": 9,
     "metadata": {},
     "output_type": "execute_result"
    }
   ],
   "source": [
    "# Initialize the game\n",
    "env = Environment(grid_size=size, max_time=T,temperature=temperature)\n",
    "\n",
    "# Initialize the agent!\n",
    "agent = RandomAgent()\n",
    "\n",
    "test(agent,env,epochs_test,prefix='random')\n",
    "HTML(display_videos('random0.mp4'))"
   ]
  },
  {
   "cell_type": "markdown",
   "metadata": {},
   "source": [
    "***\n",
    "## DQN"
   ]
  },
  {
   "cell_type": "markdown",
   "metadata": {},
   "source": [
    "Let us assume here that $T=\\infty$.\n",
    "\n",
    "***\n",
    "__Question 5__ Let $\\pi$ be a policy, show that:\n",
    "\n",
    "\\begin{equation*}\n",
    "Q^{\\pi}(s,a)=E_{(s',a')\\sim p(.|s,a)}[r(s,a)+\\gamma Q^{\\pi}(s',a')]\n",
    "\\end{equation*}\n",
    "\n",
    "Then, show that for the optimal policy $\\pi^*$ (we assume its existence), the following holds: \n",
    "\n",
    "\\begin{equation*}\n",
    "Q^{*}(s,a)=E_{s'\\sim \\pi^*(.|s,a)}[r(s,a)+\\gamma\\max_{a'}Q^{*}(s',a')].\n",
    "\\end{equation*}\n",
    "Finally, deduce that a plausible objective is:\n",
    "\n",
    "\\begin{equation*}\n",
    "\\mathcal{L}(\\theta)=E_{s' \\sim \\pi^*(.|s,a)}\\Vert r+\\gamma\\max\\max_{a'}Q(s',a',\\theta)-Q(s,a,\\theta)\\Vert^{2}.\n",
    "\\end{equation*}\n",
    "\n",
    "\n"
   ]
  },
  {
   "cell_type": "markdown",
   "metadata": {},
   "source": []
  },
  {
   "cell_type": "markdown",
   "metadata": {},
   "source": [
    "***\n",
    "The DQN-learning algorithm relies on these derivations to train the parameters $\\theta$ of a Deep Neural Network:\n",
    "\n",
    "1. At the state $s_t$, select the action $a_t$ with best reward using $Q_t$ and store the results;\n",
    "\n",
    "2. Obtain the new state $s_{t+1}$ from the environment $p$;\n",
    "\n",
    "3. Store $(s_t,a_t,s_{t+1})$;\n",
    "\n",
    "4. Obtain $Q_{t+1}$ by minimizing  $\\mathcal{L}$ from a recovered batch from the previously stored results.\n",
    "\n",
    "***\n",
    "__Question 6__ Implement the class ```Memory``` that stores moves (in a replay buffer) via ```remember``` and provides a ```random_access``` to these. Specify a maximum memory size to avoid side effects. You can for example use a ```list()``` and set by default ```max_memory=100```."
   ]
  },
  {
   "cell_type": "code",
   "execution_count": 9,
   "metadata": {},
   "outputs": [],
   "source": [
    "class Memory(object):\n",
    "    def __init__(self, max_memory=100):\n",
    "        self.max_memory = max_memory\n",
    "        self.memory = list()\n",
    "\n",
    "    def remember(self, m):\n",
    "        if len(self.memory) == self.max_memory:\n",
    "            self.memory.pop(0)\n",
    "        self.memory.append(m)\n",
    "\n",
    "    def random_access(self):\n",
    "        i = np.random.randint(len(self.memory))\n",
    "        return self.memory[i]"
   ]
  },
  {
   "cell_type": "markdown",
   "metadata": {},
   "source": [
    "***\n",
    "The pipeline we will use for training is given below:"
   ]
  },
  {
   "cell_type": "code",
   "execution_count": 10,
   "metadata": {},
   "outputs": [],
   "source": [
    "def train(agent,env,epoch,prefix=''):\n",
    "    # Number of won games\n",
    "    score = 0\n",
    "    loss = 0\n",
    "\n",
    "    for e in range(epoch):\n",
    "        # At each epoch, we restart to a fresh game and get the initial state\n",
    "        state = env.reset()\n",
    "        # This assumes that the games will terminate\n",
    "        game_over = False\n",
    "\n",
    "        win = 0\n",
    "        lose = 0\n",
    "\n",
    "        while not game_over:\n",
    "            # The agent performs an action\n",
    "            action = agent.act(state)\n",
    "\n",
    "            # Apply an action to the environment, get the next state, the reward\n",
    "            # and if the games end\n",
    "            prev_state = state\n",
    "            state, reward, game_over = env.act(action)\n",
    "\n",
    "            # Update the counters\n",
    "            if reward > 0:\n",
    "                win = win + reward\n",
    "            if reward < 0:\n",
    "                lose = lose -reward\n",
    "\n",
    "            # Apply the reinforcement strategy\n",
    "            loss = agent.reinforce(prev_state, state,  action, reward, game_over)\n",
    "\n",
    "        # Save as a mp4\n",
    "        if e % 10 == 0:\n",
    "            env.draw(prefix+str(e))\n",
    "\n",
    "        # Update stats\n",
    "        score += win-lose\n",
    "\n",
    "        print(\"Epoch {:03d}/{:03d} | Loss {:.4f} | Win/lose count {}/{} ({})\"\n",
    "              .format(e, epoch, loss, win, lose, win-lose))\n",
    "        agent.save(name_weights=prefix+'model.h5',name_model=prefix+'model.json')"
   ]
  },
  {
   "cell_type": "markdown",
   "metadata": {},
   "source": [
    "***\n",
    "__Question 7__ Implement the DQN training algorithm using a cascade of fully connected layers. You can use different learning rate, batch size or memory size parameters. In particular, the loss might oscillate while the player will start to win the games. You have to find a good criterium."
   ]
  },
  {
   "cell_type": "code",
   "execution_count": 11,
   "metadata": {},
   "outputs": [],
   "source": [
    "\n",
    "class DQN(Agent):\n",
    "    def __init__(self, grid_size,  epsilon = 0.1, memory_size=100, batch_size = 16,n_state=2):\n",
    "        super(DQN, self).__init__(epsilon = epsilon)\n",
    "\n",
    "        # Discount for Q learning\n",
    "        self.discount = 0.99\n",
    "        \n",
    "        self.grid_size = grid_size\n",
    "        \n",
    "        # number of state\n",
    "        self.n_state = n_state\n",
    "\n",
    "        # Memory\n",
    "        self.memory = Memory(memory_size)\n",
    "        \n",
    "        # Batch size when learning\n",
    "        self.batch_size = batch_size\n",
    "        \n",
    "        # Adaptation of epsilon\n",
    "        adapted_epsilon = True\n",
    "        self.adapted_epsilon = adapted_epsilon\n",
    "\n",
    "    def learned_act(self, s):\n",
    "        # s must be adapted at shape (1,5,5,n_state) \n",
    "        # The augmented first dimension is for the NN and correspond the batch_size dimension\n",
    "        s_shape = tuple(np.append(1,s.shape))\n",
    "        s = s.reshape(s_shape)\n",
    "        \n",
    "        #Prediction\n",
    "        a = self.model.predict(s)\n",
    "        return np.argmax(a)\n",
    "\n",
    "    def reinforce(self, s_, n_s_, a_, r_, game_over_):\n",
    "        # Two steps: first memorize the states, second learn from the pool\n",
    "\n",
    "        self.memory.remember([s_, n_s_, a_, r_, game_over_])\n",
    "        \n",
    "        # input_states : (batch_size, observation_size (5,5), n_state : board + position)\n",
    "        input_states = np.zeros((self.batch_size, 5,5,self.n_state))\n",
    "        target_q = np.zeros((self.batch_size, 4))\n",
    "        \n",
    "        s_shape = tuple(np.append(1,s_.shape))\n",
    "        \n",
    "        for i in range(self.batch_size):\n",
    "            [state, next_state, action, reward, game_over] = self.memory.random_access()\n",
    "            \n",
    "            #Adaptation of the state format\n",
    "            \n",
    "            target_q[i] = self.model.predict(state.reshape(s_shape))\n",
    "            if game_over_:\n",
    "                target_q[i,action] = reward\n",
    "            else:\n",
    "                target_q[i,action] = reward + self.discount* np.max(self.model.predict(next_state.reshape(s_shape)))\n",
    "                \n",
    "            input_states[i]=state    \n",
    "        \n",
    "        # HINT: Clip the target to avoid exploiding gradients.. -- clipping is a bit tighter\n",
    "        target_q = np.clip(target_q, -3, 3)\n",
    "\n",
    "        l = self.model.train_on_batch(input_states, target_q)\n",
    "        \n",
    "        if self.adapted_epsilon:\n",
    "            if self.epsilon > self.epsilon_min:\n",
    "                self.set_epsilon(self.epsilon*self.epsilon_decay)\n",
    "\n",
    "\n",
    "        return l\n",
    "\n",
    "    def save(self,name_weights='model.h5',name_model='model.json'):\n",
    "        self.model.save_weights(name_weights, overwrite=True)\n",
    "        with open(name_model, \"w\") as outfile:\n",
    "            json.dump(self.model.to_json(), outfile)\n",
    "            \n",
    "    def load(self,name_weights='model.h5',name_model='model.json'):\n",
    "        with open(name_model, \"r\") as jfile:\n",
    "            model = model_from_json(json.load(jfile))\n",
    "        model.load_weights(name_weights)\n",
    "        model.compile(\"sgd\", \"mse\")\n",
    "        self.model = model\n",
    "\n",
    "            \n",
    "class DQN_FC(DQN):\n",
    "    def __init__(self, *args, lr=0.1,**kwargs):\n",
    "        super(DQN_FC, self).__init__( *args,**kwargs)\n",
    "        \n",
    "        # NN Model\n",
    "        model=Sequential()\n",
    "        model.add(Flatten(input_shape=(5, 5, 2))) \n",
    "        model.add(Dense(32, activation='relu')) \n",
    "        model.add(Dense(16, activation='relu')) \n",
    "        model.add(Dense(4, activation='sigmoid'))\n",
    "        \n",
    "        model.compile(sgd(lr=lr, decay=1e-4, momentum=0.0), \"mse\")\n",
    "        self.model = model\n",
    "        "
   ]
  },
  {
   "cell_type": "code",
   "execution_count": 50,
   "metadata": {},
   "outputs": [
    {
     "name": "stdout",
     "output_type": "stream",
     "text": [
      "Epoch 000/040 | Loss 0.0720 | Win/lose count 1.5/2.0 (-0.5)\n",
      "Epoch 001/040 | Loss 0.1107 | Win/lose count 2.5/5.0 (-2.5)\n",
      "Epoch 002/040 | Loss 0.0707 | Win/lose count 0/3.0 (-3.0)\n",
      "Epoch 003/040 | Loss 0.0682 | Win/lose count 0/1.0 (-1.0)\n",
      "Epoch 004/040 | Loss 0.0641 | Win/lose count 1.5/1.0 (0.5)\n",
      "Epoch 005/040 | Loss 0.0630 | Win/lose count 0/0 (0)\n",
      "Epoch 006/040 | Loss 0.0731 | Win/lose count 0.5/2.0 (-1.5)\n",
      "Epoch 007/040 | Loss 0.0589 | Win/lose count 0.5/2.0 (-1.5)\n",
      "Epoch 008/040 | Loss 0.0709 | Win/lose count 0.5/1.0 (-0.5)\n",
      "Epoch 009/040 | Loss 0.0559 | Win/lose count 1.5/0 (1.5)\n",
      "Epoch 010/040 | Loss 0.0559 | Win/lose count 0.5/0 (0.5)\n",
      "Epoch 011/040 | Loss 0.0582 | Win/lose count 1.0/5.0 (-4.0)\n",
      "Epoch 012/040 | Loss 0.0593 | Win/lose count 1.0/3.0 (-2.0)\n",
      "Epoch 013/040 | Loss 0.0709 | Win/lose count 2.5/0 (2.5)\n",
      "Epoch 014/040 | Loss 0.0565 | Win/lose count 1.5/2.0 (-0.5)\n",
      "Epoch 015/040 | Loss 0.0737 | Win/lose count 0.5/1.0 (-0.5)\n",
      "Epoch 016/040 | Loss 0.0538 | Win/lose count 1.0/5.0 (-4.0)\n",
      "Epoch 017/040 | Loss 0.0628 | Win/lose count 1.5/2.0 (-0.5)\n",
      "Epoch 018/040 | Loss 0.0676 | Win/lose count 2.5/0 (2.5)\n",
      "Epoch 019/040 | Loss 0.0684 | Win/lose count 1.0/1.0 (0.0)\n",
      "Epoch 020/040 | Loss 0.0539 | Win/lose count 2.0/1.0 (1.0)\n",
      "Epoch 021/040 | Loss 0.0659 | Win/lose count 2.5/3.0 (-0.5)\n",
      "Epoch 022/040 | Loss 0.0498 | Win/lose count 1.5/3.0 (-1.5)\n",
      "Epoch 023/040 | Loss 0.0542 | Win/lose count 2.0/4.0 (-2.0)\n",
      "Epoch 024/040 | Loss 0.0509 | Win/lose count 0.5/0 (0.5)\n",
      "Epoch 025/040 | Loss 0.0481 | Win/lose count 2.0/4.0 (-2.0)\n",
      "Epoch 026/040 | Loss 0.0488 | Win/lose count 1.5/2.0 (-0.5)\n",
      "Epoch 027/040 | Loss 0.0594 | Win/lose count 0/1.0 (-1.0)\n",
      "Epoch 028/040 | Loss 0.0483 | Win/lose count 0/0 (0)\n",
      "Epoch 029/040 | Loss 0.0459 | Win/lose count 2.0/3.0 (-1.0)\n",
      "Epoch 030/040 | Loss 0.0610 | Win/lose count 1.0/2.0 (-1.0)\n",
      "Epoch 031/040 | Loss 0.0467 | Win/lose count 2.0/1.0 (1.0)\n",
      "Epoch 032/040 | Loss 0.0475 | Win/lose count 1.0/0 (1.0)\n",
      "Epoch 033/040 | Loss 0.0468 | Win/lose count 1.0/3.0 (-2.0)\n",
      "Epoch 034/040 | Loss 0.0446 | Win/lose count 0/0 (0)\n",
      "Epoch 035/040 | Loss 0.0449 | Win/lose count 1.5/2.0 (-0.5)\n",
      "Epoch 036/040 | Loss 0.0414 | Win/lose count 0.5/0 (0.5)\n",
      "Epoch 037/040 | Loss 0.0439 | Win/lose count 1.5/1.0 (0.5)\n",
      "Epoch 038/040 | Loss 0.0434 | Win/lose count 2.5/0 (2.5)\n",
      "Epoch 039/040 | Loss 0.0414 | Win/lose count 1.5/1.0 (0.5)\n"
     ]
    },
    {
     "data": {
      "text/html": [
       "<video alt=\"test\" controls>\n",
       "                <source src=\"data:video/mp4;base64,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\" type=\"video/mp4\" />\n",
       "             </video>"
      ],
      "text/plain": [
       "<IPython.core.display.HTML object>"
      ]
     },
     "execution_count": 50,
     "metadata": {},
     "output_type": "execute_result"
    }
   ],
   "source": [
    "env = Environment(grid_size=size, max_time=T, temperature=0.3)\n",
    "agent = DQN_FC(size, lr=.1, epsilon = 0.1, memory_size=2000, batch_size = 32)\n",
    "train(agent, env, epochs_train, prefix='fc_train')\n",
    "HTML(display_videos('fc_train10.mp4'))"
   ]
  },
  {
   "cell_type": "markdown",
   "metadata": {},
   "source": [
    "***\n",
    "***\n",
    "__Question 8__ Implement the DQN training algorithm using a CNN (for example, 2 convolutional layers and one final fully connected layer)."
   ]
  },
  {
   "cell_type": "code",
   "execution_count": 12,
   "metadata": {},
   "outputs": [],
   "source": [
    "class DQN_CNN(DQN):\n",
    "    def __init__(self, *args,lr=0.1,**kwargs):\n",
    "        super(DQN_CNN, self).__init__(*args,**kwargs)\n",
    "        \n",
    "        # NN model\n",
    "        \n",
    "        model=Sequential()\n",
    "        model.add(Conv2D(8,(2,2),activation=\"relu\",input_shape=(5,5,self.n_state)))\n",
    "        model.add(MaxPooling2D(pool_size=(2, 2)))\n",
    "        model.add(Conv2D(8,(2,2),activation=\"relu\",input_shape=(5,5,self.n_state)))\n",
    "        model.add(Flatten())\n",
    "        model.add(Dense(16,activation=\"relu\"))\n",
    "        model.add(Dense(4,activation=\"relu\"))\n",
    "        model.compile(sgd(lr=lr, decay=1e-4, momentum=0.0), \"mse\")\n",
    "        self.model = model"
   ]
  },
  {
   "cell_type": "code",
   "execution_count": 100,
   "metadata": {},
   "outputs": [
    {
     "name": "stdout",
     "output_type": "stream",
     "text": [
      "Epoch 000/040 | Loss 0.0030 | Win/lose count 2.0/5.0 (-3.0)\n",
      "Epoch 001/040 | Loss 0.0018 | Win/lose count 0/2.0 (-2.0)\n",
      "Epoch 002/040 | Loss 0.0113 | Win/lose count 3.0/3.0 (0.0)\n",
      "Epoch 003/040 | Loss 0.0039 | Win/lose count 1.0/1.0 (0.0)\n"
     ]
    },
    {
     "ename": "KeyboardInterrupt",
     "evalue": "",
     "output_type": "error",
     "traceback": [
      "\u001b[1;31m---------------------------------------------------------------------------\u001b[0m",
      "\u001b[1;31mKeyboardInterrupt\u001b[0m                         Traceback (most recent call last)",
      "\u001b[1;32m<ipython-input-100-0f9cf5542594>\u001b[0m in \u001b[0;36m<module>\u001b[1;34m()\u001b[0m\n\u001b[0;32m      1\u001b[0m \u001b[0menv\u001b[0m \u001b[1;33m=\u001b[0m \u001b[0mEnvironment\u001b[0m\u001b[1;33m(\u001b[0m\u001b[0mgrid_size\u001b[0m\u001b[1;33m=\u001b[0m\u001b[0msize\u001b[0m\u001b[1;33m,\u001b[0m \u001b[0mmax_time\u001b[0m\u001b[1;33m=\u001b[0m\u001b[0mT\u001b[0m\u001b[1;33m,\u001b[0m \u001b[0mtemperature\u001b[0m\u001b[1;33m=\u001b[0m\u001b[1;36m0.3\u001b[0m\u001b[1;33m)\u001b[0m\u001b[1;33m\u001b[0m\u001b[0m\n\u001b[0;32m      2\u001b[0m \u001b[0magent\u001b[0m \u001b[1;33m=\u001b[0m \u001b[0mDQN_CNN\u001b[0m\u001b[1;33m(\u001b[0m\u001b[0msize\u001b[0m\u001b[1;33m,\u001b[0m \u001b[0mlr\u001b[0m\u001b[1;33m=\u001b[0m\u001b[1;36m.1\u001b[0m\u001b[1;33m,\u001b[0m \u001b[0mepsilon\u001b[0m \u001b[1;33m=\u001b[0m \u001b[1;36m0.1\u001b[0m\u001b[1;33m,\u001b[0m \u001b[0mmemory_size\u001b[0m\u001b[1;33m=\u001b[0m\u001b[1;36m2000\u001b[0m\u001b[1;33m,\u001b[0m \u001b[0mbatch_size\u001b[0m \u001b[1;33m=\u001b[0m \u001b[1;36m32\u001b[0m\u001b[1;33m)\u001b[0m\u001b[1;33m\u001b[0m\u001b[0m\n\u001b[1;32m----> 3\u001b[1;33m \u001b[0mtrain\u001b[0m\u001b[1;33m(\u001b[0m\u001b[0magent\u001b[0m\u001b[1;33m,\u001b[0m\u001b[0menv\u001b[0m\u001b[1;33m,\u001b[0m\u001b[0mepochs_train\u001b[0m\u001b[1;33m,\u001b[0m\u001b[0mprefix\u001b[0m\u001b[1;33m=\u001b[0m\u001b[1;34m'cnn_train'\u001b[0m\u001b[1;33m)\u001b[0m\u001b[1;33m\u001b[0m\u001b[0m\n\u001b[0m\u001b[0;32m      4\u001b[0m \u001b[0mHTML\u001b[0m\u001b[1;33m(\u001b[0m\u001b[0mdisplay_videos\u001b[0m\u001b[1;33m(\u001b[0m\u001b[1;34m'cnn_train10.mp4'\u001b[0m\u001b[1;33m)\u001b[0m\u001b[1;33m)\u001b[0m\u001b[1;33m\u001b[0m\u001b[0m\n",
      "\u001b[1;32m<ipython-input-97-24317fb268aa>\u001b[0m in \u001b[0;36mtrain\u001b[1;34m(agent, env, epoch, prefix)\u001b[0m\n\u001b[0;32m     29\u001b[0m \u001b[1;33m\u001b[0m\u001b[0m\n\u001b[0;32m     30\u001b[0m             \u001b[1;31m# Apply the reinforcement strategy\u001b[0m\u001b[1;33m\u001b[0m\u001b[1;33m\u001b[0m\u001b[0m\n\u001b[1;32m---> 31\u001b[1;33m             \u001b[0mloss\u001b[0m \u001b[1;33m=\u001b[0m \u001b[0magent\u001b[0m\u001b[1;33m.\u001b[0m\u001b[0mreinforce\u001b[0m\u001b[1;33m(\u001b[0m\u001b[0mprev_state\u001b[0m\u001b[1;33m,\u001b[0m \u001b[0mstate\u001b[0m\u001b[1;33m,\u001b[0m  \u001b[0maction\u001b[0m\u001b[1;33m,\u001b[0m \u001b[0mreward\u001b[0m\u001b[1;33m,\u001b[0m \u001b[0mgame_over\u001b[0m\u001b[1;33m)\u001b[0m\u001b[1;33m\u001b[0m\u001b[0m\n\u001b[0m\u001b[0;32m     32\u001b[0m \u001b[1;33m\u001b[0m\u001b[0m\n\u001b[0;32m     33\u001b[0m         \u001b[1;31m# Save as a mp4\u001b[0m\u001b[1;33m\u001b[0m\u001b[1;33m\u001b[0m\u001b[0m\n",
      "\u001b[1;32m<ipython-input-98-a1d7cf5e4820>\u001b[0m in \u001b[0;36mreinforce\u001b[1;34m(self, s_, n_s_, a_, r_, game_over_)\u001b[0m\n\u001b[0;32m     52\u001b[0m                 \u001b[0mtarget_q\u001b[0m\u001b[1;33m[\u001b[0m\u001b[0mi\u001b[0m\u001b[1;33m,\u001b[0m\u001b[0maction\u001b[0m\u001b[1;33m]\u001b[0m \u001b[1;33m=\u001b[0m \u001b[0mreward\u001b[0m\u001b[1;33m\u001b[0m\u001b[0m\n\u001b[0;32m     53\u001b[0m             \u001b[1;32melse\u001b[0m\u001b[1;33m:\u001b[0m\u001b[1;33m\u001b[0m\u001b[0m\n\u001b[1;32m---> 54\u001b[1;33m                 \u001b[0mtarget_q\u001b[0m\u001b[1;33m[\u001b[0m\u001b[0mi\u001b[0m\u001b[1;33m,\u001b[0m\u001b[0maction\u001b[0m\u001b[1;33m]\u001b[0m \u001b[1;33m=\u001b[0m \u001b[0mreward\u001b[0m \u001b[1;33m+\u001b[0m \u001b[0mself\u001b[0m\u001b[1;33m.\u001b[0m\u001b[0mdiscount\u001b[0m\u001b[1;33m*\u001b[0m \u001b[0mnp\u001b[0m\u001b[1;33m.\u001b[0m\u001b[0mmax\u001b[0m\u001b[1;33m(\u001b[0m\u001b[0mself\u001b[0m\u001b[1;33m.\u001b[0m\u001b[0mmodel\u001b[0m\u001b[1;33m.\u001b[0m\u001b[0mpredict\u001b[0m\u001b[1;33m(\u001b[0m\u001b[0mnext_state\u001b[0m\u001b[1;33m.\u001b[0m\u001b[0mreshape\u001b[0m\u001b[1;33m(\u001b[0m\u001b[0ms_shape\u001b[0m\u001b[1;33m)\u001b[0m\u001b[1;33m)\u001b[0m\u001b[1;33m)\u001b[0m\u001b[1;33m\u001b[0m\u001b[0m\n\u001b[0m\u001b[0;32m     55\u001b[0m \u001b[1;33m\u001b[0m\u001b[0m\n\u001b[0;32m     56\u001b[0m             \u001b[0minput_states\u001b[0m\u001b[1;33m[\u001b[0m\u001b[0mi\u001b[0m\u001b[1;33m]\u001b[0m\u001b[1;33m=\u001b[0m\u001b[0mstate\u001b[0m\u001b[1;33m\u001b[0m\u001b[0m\n",
      "\u001b[1;32m~\\Anaconda3\\lib\\site-packages\\keras\\engine\\training.py\u001b[0m in \u001b[0;36mpredict\u001b[1;34m(self, x, batch_size, verbose, steps)\u001b[0m\n\u001b[0;32m   1165\u001b[0m                                             \u001b[0mbatch_size\u001b[0m\u001b[1;33m=\u001b[0m\u001b[0mbatch_size\u001b[0m\u001b[1;33m,\u001b[0m\u001b[1;33m\u001b[0m\u001b[0m\n\u001b[0;32m   1166\u001b[0m                                             \u001b[0mverbose\u001b[0m\u001b[1;33m=\u001b[0m\u001b[0mverbose\u001b[0m\u001b[1;33m,\u001b[0m\u001b[1;33m\u001b[0m\u001b[0m\n\u001b[1;32m-> 1167\u001b[1;33m                                             steps=steps)\n\u001b[0m\u001b[0;32m   1168\u001b[0m \u001b[1;33m\u001b[0m\u001b[0m\n\u001b[0;32m   1169\u001b[0m     def train_on_batch(self, x, y,\n",
      "\u001b[1;32m~\\Anaconda3\\lib\\site-packages\\keras\\engine\\training_arrays.py\u001b[0m in \u001b[0;36mpredict_loop\u001b[1;34m(model, f, ins, batch_size, verbose, steps)\u001b[0m\n\u001b[0;32m    292\u001b[0m                 \u001b[0mins_batch\u001b[0m\u001b[1;33m[\u001b[0m\u001b[0mi\u001b[0m\u001b[1;33m]\u001b[0m \u001b[1;33m=\u001b[0m \u001b[0mins_batch\u001b[0m\u001b[1;33m[\u001b[0m\u001b[0mi\u001b[0m\u001b[1;33m]\u001b[0m\u001b[1;33m.\u001b[0m\u001b[0mtoarray\u001b[0m\u001b[1;33m(\u001b[0m\u001b[1;33m)\u001b[0m\u001b[1;33m\u001b[0m\u001b[0m\n\u001b[0;32m    293\u001b[0m \u001b[1;33m\u001b[0m\u001b[0m\n\u001b[1;32m--> 294\u001b[1;33m             \u001b[0mbatch_outs\u001b[0m \u001b[1;33m=\u001b[0m \u001b[0mf\u001b[0m\u001b[1;33m(\u001b[0m\u001b[0mins_batch\u001b[0m\u001b[1;33m)\u001b[0m\u001b[1;33m\u001b[0m\u001b[0m\n\u001b[0m\u001b[0;32m    295\u001b[0m             \u001b[0mbatch_outs\u001b[0m \u001b[1;33m=\u001b[0m \u001b[0mto_list\u001b[0m\u001b[1;33m(\u001b[0m\u001b[0mbatch_outs\u001b[0m\u001b[1;33m)\u001b[0m\u001b[1;33m\u001b[0m\u001b[0m\n\u001b[0;32m    296\u001b[0m             \u001b[1;32mif\u001b[0m \u001b[0mbatch_index\u001b[0m \u001b[1;33m==\u001b[0m \u001b[1;36m0\u001b[0m\u001b[1;33m:\u001b[0m\u001b[1;33m\u001b[0m\u001b[0m\n",
      "\u001b[1;32m~\\Anaconda3\\lib\\site-packages\\keras\\backend\\tensorflow_backend.py\u001b[0m in \u001b[0;36m__call__\u001b[1;34m(self, inputs)\u001b[0m\n\u001b[0;32m   2664\u001b[0m                 \u001b[1;32mreturn\u001b[0m \u001b[0mself\u001b[0m\u001b[1;33m.\u001b[0m\u001b[0m_legacy_call\u001b[0m\u001b[1;33m(\u001b[0m\u001b[0minputs\u001b[0m\u001b[1;33m)\u001b[0m\u001b[1;33m\u001b[0m\u001b[0m\n\u001b[0;32m   2665\u001b[0m \u001b[1;33m\u001b[0m\u001b[0m\n\u001b[1;32m-> 2666\u001b[1;33m             \u001b[1;32mreturn\u001b[0m \u001b[0mself\u001b[0m\u001b[1;33m.\u001b[0m\u001b[0m_call\u001b[0m\u001b[1;33m(\u001b[0m\u001b[0minputs\u001b[0m\u001b[1;33m)\u001b[0m\u001b[1;33m\u001b[0m\u001b[0m\n\u001b[0m\u001b[0;32m   2667\u001b[0m         \u001b[1;32melse\u001b[0m\u001b[1;33m:\u001b[0m\u001b[1;33m\u001b[0m\u001b[0m\n\u001b[0;32m   2668\u001b[0m             \u001b[1;32mif\u001b[0m \u001b[0mpy_any\u001b[0m\u001b[1;33m(\u001b[0m\u001b[0mis_tensor\u001b[0m\u001b[1;33m(\u001b[0m\u001b[0mx\u001b[0m\u001b[1;33m)\u001b[0m \u001b[1;32mfor\u001b[0m \u001b[0mx\u001b[0m \u001b[1;32min\u001b[0m \u001b[0minputs\u001b[0m\u001b[1;33m)\u001b[0m\u001b[1;33m:\u001b[0m\u001b[1;33m\u001b[0m\u001b[0m\n",
      "\u001b[1;32m~\\Anaconda3\\lib\\site-packages\\keras\\backend\\tensorflow_backend.py\u001b[0m in \u001b[0;36m_call\u001b[1;34m(self, inputs)\u001b[0m\n\u001b[0;32m   2634\u001b[0m                                 \u001b[0msymbol_vals\u001b[0m\u001b[1;33m,\u001b[0m\u001b[1;33m\u001b[0m\u001b[0m\n\u001b[0;32m   2635\u001b[0m                                 session)\n\u001b[1;32m-> 2636\u001b[1;33m         \u001b[0mfetched\u001b[0m \u001b[1;33m=\u001b[0m \u001b[0mself\u001b[0m\u001b[1;33m.\u001b[0m\u001b[0m_callable_fn\u001b[0m\u001b[1;33m(\u001b[0m\u001b[1;33m*\u001b[0m\u001b[0marray_vals\u001b[0m\u001b[1;33m)\u001b[0m\u001b[1;33m\u001b[0m\u001b[0m\n\u001b[0m\u001b[0;32m   2637\u001b[0m         \u001b[1;32mreturn\u001b[0m \u001b[0mfetched\u001b[0m\u001b[1;33m[\u001b[0m\u001b[1;33m:\u001b[0m\u001b[0mlen\u001b[0m\u001b[1;33m(\u001b[0m\u001b[0mself\u001b[0m\u001b[1;33m.\u001b[0m\u001b[0moutputs\u001b[0m\u001b[1;33m)\u001b[0m\u001b[1;33m]\u001b[0m\u001b[1;33m\u001b[0m\u001b[0m\n\u001b[0;32m   2638\u001b[0m \u001b[1;33m\u001b[0m\u001b[0m\n",
      "\u001b[1;32m~\\Anaconda3\\lib\\site-packages\\tensorflow\\python\\client\\session.py\u001b[0m in \u001b[0;36m__call__\u001b[1;34m(self, *args)\u001b[0m\n\u001b[0;32m   1449\u001b[0m         \u001b[1;32mif\u001b[0m \u001b[0mself\u001b[0m\u001b[1;33m.\u001b[0m\u001b[0m_session\u001b[0m\u001b[1;33m.\u001b[0m\u001b[0m_created_with_new_api\u001b[0m\u001b[1;33m:\u001b[0m\u001b[1;33m\u001b[0m\u001b[0m\n\u001b[0;32m   1450\u001b[0m           return tf_session.TF_SessionRunCallable(\n\u001b[1;32m-> 1451\u001b[1;33m               self._session._session, self._handle, args, status, None)\n\u001b[0m\u001b[0;32m   1452\u001b[0m         \u001b[1;32melse\u001b[0m\u001b[1;33m:\u001b[0m\u001b[1;33m\u001b[0m\u001b[0m\n\u001b[0;32m   1453\u001b[0m           return tf_session.TF_DeprecatedSessionRunCallable(\n",
      "\u001b[1;31mKeyboardInterrupt\u001b[0m: "
     ]
    }
   ],
   "source": [
    "env = Environment(grid_size=size, max_time=T, temperature=0.3)\n",
    "agent = DQN_CNN(size, lr=.1, epsilon = 0.1, memory_size=2000, batch_size = 32)\n",
    "train(agent,env,epochs_train,prefix='cnn_train')\n",
    "HTML(display_videos('cnn_train10.mp4'))"
   ]
  },
  {
   "cell_type": "markdown",
   "metadata": {},
   "source": [
    "***\n",
    "***\n",
    "__Question 9__ Test both algorithms and compare their performances. Which issue(s) do you observe? Observe also different behaviors by changing the temperature."
   ]
  },
  {
   "cell_type": "code",
   "execution_count": null,
   "metadata": {},
   "outputs": [],
   "source": [
    "env = Environment(grid_size=size, max_time=T,temperature=0.3)\n",
    "agent_cnn = DQN_CNN(size, lr=.1, epsilon = 0.1, memory_size=2000, batch_size = 32)\n",
    "agent_cnn.load(name_weights='cnn_trainmodel.h5',name_model='cnn_trainmodel.json')\n",
    "\n",
    "agent_fc = DQN_FC(size, lr=.1, epsilon = 0.1, memory_size=2000, batch_size = 32)\n",
    "agent_cnn.load(name_weights='fc_trainmodel.h5',name_model='fc_trainmodel.json')\n",
    "print('Test of the CNN')\n",
    "test(agent_cnn,env,epochs_test,prefix='cnn_test')\n",
    "print('Test of the FC')\n",
    "test(agent_fc,env,epochs_test,prefix='fc_test')"
   ]
  },
  {
   "cell_type": "code",
   "execution_count": 22,
   "metadata": {},
   "outputs": [
    {
     "data": {
      "text/html": [
       "<video alt=\"test\" controls>\n",
       "                <source src=\"data:video/mp4;base64,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\" type=\"video/mp4\" />\n",
       "             </video>"
      ],
      "text/plain": [
       "<IPython.core.display.HTML object>"
      ]
     },
     "execution_count": 22,
     "metadata": {},
     "output_type": "execute_result"
    }
   ],
   "source": [
    "HTML(display_videos('cnn_test10.mp4'))"
   ]
  },
  {
   "cell_type": "code",
   "execution_count": null,
   "metadata": {
    "collapsed": true
   },
   "outputs": [],
   "source": [
    "HTML(display_videos('fc_test10.mp4'))"
   ]
  },
  {
   "cell_type": "markdown",
   "metadata": {},
   "source": []
  },
  {
   "cell_type": "markdown",
   "metadata": {},
   "source": [
    "***\n",
    "\n",
    "The algorithm tends to not explore the map which can be an issue. We propose two ideas in order to encourage exploration:\n",
    "1. Incorporating a decreasing $\\epsilon$-greedy exploration. You can use the method ```set_epsilon```\n",
    "2. Append via the environment a new state that describes if a cell has been visited or not\n",
    "\n",
    "***\n",
    "__Question 10__ Design a new ```train_explore``` function and environment class ```EnvironmentExploring``` to tackle the issue of exploration.\n",
    "\n"
   ]
  },
  {
   "cell_type": "code",
   "execution_count": 13,
   "metadata": {},
   "outputs": [
    {
     "ename": "NameError",
     "evalue": "name 'env' is not defined",
     "output_type": "error",
     "traceback": [
      "\u001b[1;31m---------------------------------------------------------------------------\u001b[0m",
      "\u001b[1;31mNameError\u001b[0m                                 Traceback (most recent call last)",
      "\u001b[1;32m<ipython-input-13-7e87314b82d9>\u001b[0m in \u001b[0;36m<module>\u001b[1;34m()\u001b[0m\n\u001b[0;32m      8\u001b[0m \u001b[1;31m## use those samples of code:\u001b[0m\u001b[1;33m\u001b[0m\u001b[1;33m\u001b[0m\u001b[0m\n\u001b[0;32m      9\u001b[0m \u001b[1;31m#In train explore:\u001b[0m\u001b[1;33m\u001b[0m\u001b[1;33m\u001b[0m\u001b[0m\n\u001b[1;32m---> 10\u001b[1;33m \u001b[0mstate\u001b[0m\u001b[1;33m,\u001b[0m \u001b[0mreward\u001b[0m\u001b[1;33m,\u001b[0m \u001b[0mgame_over\u001b[0m \u001b[1;33m=\u001b[0m \u001b[0menv\u001b[0m\u001b[1;33m.\u001b[0m\u001b[0mact\u001b[0m\u001b[1;33m(\u001b[0m\u001b[0maction\u001b[0m\u001b[1;33m,\u001b[0m \u001b[0mtrain\u001b[0m\u001b[1;33m=\u001b[0m\u001b[1;32mTrue\u001b[0m\u001b[1;33m)\u001b[0m\u001b[1;33m\u001b[0m\u001b[0m\n\u001b[0m\u001b[0;32m     11\u001b[0m \u001b[1;33m\u001b[0m\u001b[0m\n\u001b[0;32m     12\u001b[0m \u001b[1;31m## In Environment exploring:\u001b[0m\u001b[1;33m\u001b[0m\u001b[1;33m\u001b[0m\u001b[0m\n",
      "\u001b[1;31mNameError\u001b[0m: name 'env' is not defined"
     ]
    }
   ],
   "source": [
    "def train_explore(agent,env,epoch,prefix=''):\n",
    "    pass\n",
    "        \n",
    "class EnvironmentExploring(object):\n",
    "    def __init__(self, grid_size=10, max_time=500, temperature=0.1):\n",
    "        pass\n",
    "    \n",
    "## use those samples of code:\n",
    "#In train explore:\n",
    "state, reward, game_over = env.act(action, train=True)\n",
    "\n",
    "## In Environment exploring:\n",
    "# You will have to change n_state to 3 because you will use one more layer!\n",
    "reward = 0\n",
    "if train:\n",
    "    reward = -self.malus_position[self.x, self.y]\n",
    "self.malus_position[self.x, self.y] = 0.1\n",
    "\n",
    "reward = reward + self.board[self.x, self.y]\n",
    "# 3 \"feature\" states instead of 2\n",
    "state = np.concatenate((self.malus_position.reshape(self.grid_size, self.grid_size,1),\n",
    "                                self.board.reshape(self.grid_size, self.grid_size,1),\n",
    "                        self.position.reshape(self.grid_size, self.grid_size,1)),axis=2)"
   ]
  },
  {
   "cell_type": "code",
   "execution_count": 22,
   "metadata": {},
   "outputs": [],
   "source": [
    "def train_explore(agent,env,epoch,prefix=''):\n",
    "    # Number of won games\n",
    "    score = 0\n",
    "    loss = 0\n",
    "\n",
    "    for e in range(epoch):\n",
    "        # At each epoch, we restart to a fresh game and get the initial state\n",
    "        state = env.reset()\n",
    "        # This assumes that the games will terminate\n",
    "        game_over = False\n",
    "\n",
    "        win = 0\n",
    "        lose = 0\n",
    "\n",
    "        while not game_over:\n",
    "            # The agent performs an action\n",
    "            action = agent.act(state)\n",
    "\n",
    "            # Apply an action to the environment, get the next state, the reward\n",
    "            # and if the games end\n",
    "            prev_state = state\n",
    "            state, reward, game_over = env.act(action, train=True)\n",
    "\n",
    "            # Update the counters\n",
    "            if reward > 0:\n",
    "                win = win + reward\n",
    "            if reward < 0:\n",
    "                lose = lose -reward\n",
    "\n",
    "            # Apply the reinforcement strategy\n",
    "            loss = agent.reinforce(prev_state, state,  action, reward, game_over)\n",
    "\n",
    "        # Save as a mp4\n",
    "        if e % 10 == 0:\n",
    "            env.draw(prefix+str(e))\n",
    "\n",
    "        # Update stats\n",
    "        score += win-lose\n",
    "\n",
    "        \n",
    "\n",
    "        print(\"Epoch {:03d}/{:03d} | Loss {:.4f} | Win/lose count {}/{} ({})\"\n",
    "              .format(e, epoch, loss, win, lose, win-lose))\n",
    "        agent.save(name_weights=prefix+'model.h5',name_model=prefix+'model.json')"
   ]
  },
  {
   "cell_type": "code",
   "execution_count": 23,
   "metadata": {},
   "outputs": [],
   "source": [
    "class EnvironmentExploring(object):\n",
    "    def __init__(self, grid_size=10, max_time=500, temperature=0.1):\n",
    "        grid_size = grid_size+4\n",
    "        self.grid_size = grid_size\n",
    "        self.max_time = max_time\n",
    "        self.temperature = temperature\n",
    "\n",
    "        #board on which one plays\n",
    "        self.board = np.zeros((grid_size,grid_size))\n",
    "        self.position = np.zeros((grid_size,grid_size))\n",
    "\n",
    "        # coordinate of the cat\n",
    "        self.x = 0\n",
    "        self.y = 1\n",
    "\n",
    "        # self time\n",
    "        self.t = 0\n",
    "\n",
    "        self.scale=16\n",
    "\n",
    "        self.to_draw = np.zeros((max_time+2, grid_size*self.scale, grid_size*self.scale, 3))\n",
    "\n",
    "\n",
    "    def draw(self,e):\n",
    "        skvideo.io.vwrite(str(e) + '.mp4', self.to_draw)\n",
    "\n",
    "    def get_frame(self,t):\n",
    "        b = np.zeros((self.grid_size,self.grid_size,3))+128\n",
    "        b[self.board>0,0] = 256\n",
    "        b[self.board < 0, 2] = 256\n",
    "        b[self.x,self.y,:]=256\n",
    "        b[-2:,:,:]=0\n",
    "        b[:,-2:,:]=0\n",
    "        b[:2,:,:]=0\n",
    "        b[:,:2,:]=0\n",
    "        \n",
    "        b =  cv2.resize(b, None, fx=self.scale, fy=self.scale, interpolation=cv2.INTER_NEAREST)\n",
    "\n",
    "        self.to_draw[t,:,:,:]=b\n",
    "\n",
    "\n",
    "    def act(self, action, train=False):\n",
    "        \"\"\"This function returns the new state, reward and decides if the\n",
    "        game ends.\"\"\"\n",
    "\n",
    "        self.get_frame(int(self.t))\n",
    "\n",
    "        self.position = np.zeros((self.grid_size, self.grid_size))\n",
    "\n",
    "        self.position[0:2,:]= -1\n",
    "        self.position[:,0:2] = -1\n",
    "        self.position[-2:, :] = -1\n",
    "        self.position[-2:, :] = -1\n",
    "\n",
    "        self.position[self.x, self.y] = 1\n",
    "        if action == 0:\n",
    "            if self.x == self.grid_size-3:\n",
    "                self.x = self.x-1\n",
    "            else:\n",
    "                self.x = self.x + 1\n",
    "        elif action == 1:\n",
    "            if self.x == 2:\n",
    "                self.x = self.x+1\n",
    "            else:\n",
    "                self.x = self.x-1\n",
    "        elif action == 2:\n",
    "            if self.y == self.grid_size - 3:\n",
    "                self.y = self.y - 1\n",
    "            else:\n",
    "                self.y = self.y + 1\n",
    "        elif action == 3:\n",
    "            if self.y == 2:\n",
    "                self.y = self.y + 1\n",
    "            else:\n",
    "                self.y = self.y - 1\n",
    "        else:\n",
    "            RuntimeError('Error: action not recognized')\n",
    "\n",
    "        self.t = self.t + 1\n",
    "        \n",
    "        reward = 0\n",
    "        if train:\n",
    "            reward = -self.malus_position[self.x, self.y]\n",
    "        self.malus_position[self.x, self.y] = 0.1\n",
    "\n",
    "        reward = reward + self.board[self.x, self.y]\n",
    "        # 3 \"feature\" states instead of 2\n",
    "        state = np.concatenate((self.malus_position.reshape(self.grid_size, self.grid_size,1),\n",
    "                                self.board.reshape(self.grid_size, self.grid_size,1),\n",
    "                        self.position.reshape(self.grid_size, self.grid_size,1)),axis=2)\n",
    "        \n",
    "        \n",
    "        self.board[self.x, self.y] = 0\n",
    "        game_over = self.t > self.max_time\n",
    "        state = state[self.x-2:self.x+3,self.y-2:self.y+3,:]\n",
    "\n",
    "        return state, reward, game_over\n",
    "\n",
    "    def reset(self):\n",
    "        \"\"\"This function resets the game and returns the initial state\"\"\"\n",
    "\n",
    "        self.x = np.random.randint(3, self.grid_size-3, size=1)[0]\n",
    "        self.y = np.random.randint(3, self.grid_size-3, size=1)[0]\n",
    "        \n",
    "        self.malus_position = np.zeros((self.grid_size,self.grid_size))\n",
    "\n",
    "        bonus = 0.5*np.random.binomial(1,self.temperature,size=self.grid_size**2)\n",
    "        bonus = bonus.reshape(self.grid_size,self.grid_size)\n",
    "\n",
    "        malus = -1.0*np.random.binomial(1,self.temperature,size=self.grid_size**2)\n",
    "        malus = malus.reshape(self.grid_size, self.grid_size)\n",
    "\n",
    "        self.to_draw = np.zeros((self.max_time+2, self.grid_size*self.scale, self.grid_size*self.scale, 3))\n",
    "\n",
    "\n",
    "        malus[bonus>0]=0\n",
    "\n",
    "        self.board = bonus + malus\n",
    "\n",
    "        self.position = np.zeros((self.grid_size, self.grid_size))\n",
    "        self.position[0:2,:]= -1\n",
    "        self.position[:,0:2] = -1\n",
    "        self.position[-2:, :] = -1\n",
    "        self.position[-2:, :] = -1\n",
    "        self.board[self.x,self.y] = 0\n",
    "        self.t = 0\n",
    "\n",
    "        state = np.concatenate((self.malus_position.reshape(self.grid_size, self.grid_size,1),\n",
    "                                self.board.reshape(self.grid_size, self.grid_size,1),\n",
    "                        self.position.reshape(self.grid_size, self.grid_size,1)),axis=2)\n",
    "        \n",
    "        \n",
    "        state = state[self.x - 2:self.x + 3, self.y - 2:self.y + 3, :]\n",
    "        return state"
   ]
  },
  {
   "cell_type": "code",
   "execution_count": 24,
   "metadata": {},
   "outputs": [
    {
     "name": "stdout",
     "output_type": "stream",
     "text": [
      "Epoch 000/060 | Loss 0.0075 | Win/lose count 4.5/21.20000000000003 (-16.70000000000003)\n",
      "Epoch 001/060 | Loss 0.0045 | Win/lose count 5.0/20.100000000000016 (-15.100000000000016)\n",
      "Epoch 002/060 | Loss 0.0058 | Win/lose count 3.0/20.900000000000034 (-17.900000000000034)\n",
      "Epoch 003/060 | Loss 0.0106 | Win/lose count 4.5/22.400000000000052 (-17.900000000000052)\n",
      "Epoch 004/060 | Loss 0.0053 | Win/lose count 0.5/21.500000000000036 (-21.000000000000036)\n",
      "Epoch 005/060 | Loss 0.0179 | Win/lose count 3.0/25.0000000000001 (-22.0000000000001)\n",
      "Epoch 006/060 | Loss 0.0122 | Win/lose count 1.5/20.800000000000026 (-19.300000000000026)\n",
      "Epoch 007/060 | Loss 0.0029 | Win/lose count 3.0/21.500000000000036 (-18.500000000000036)\n",
      "Epoch 008/060 | Loss 0.0107 | Win/lose count 2.0/20.600000000000023 (-18.600000000000023)\n",
      "Epoch 009/060 | Loss 0.0036 | Win/lose count 1.5/20.900000000000034 (-19.400000000000034)\n",
      "Epoch 010/060 | Loss 0.0103 | Win/lose count 1.5/19.1 (-17.6)\n",
      "Epoch 011/060 | Loss 0.0029 | Win/lose count 3.5/19.000000000000004 (-15.500000000000004)\n",
      "Epoch 012/060 | Loss 0.0023 | Win/lose count 2.0/19.700000000000014 (-17.700000000000014)\n",
      "Epoch 013/060 | Loss 0.0063 | Win/lose count 3.0/21.20000000000003 (-18.20000000000003)\n",
      "Epoch 014/060 | Loss 0.0026 | Win/lose count 0.5/20.700000000000028 (-20.200000000000028)\n",
      "Epoch 015/060 | Loss 0.0025 | Win/lose count 3.5/23.00000000000006 (-19.50000000000006)\n",
      "Epoch 016/060 | Loss 0.0023 | Win/lose count 3.5/20.200000000000017 (-16.700000000000017)\n",
      "Epoch 017/060 | Loss 0.0044 | Win/lose count 1.0/20.500000000000007 (-19.500000000000007)\n",
      "Epoch 018/060 | Loss 0.0100 | Win/lose count 4.0/22.300000000000047 (-18.300000000000047)\n",
      "Epoch 019/060 | Loss 0.0024 | Win/lose count 1.0/20.600000000000026 (-19.600000000000026)\n",
      "Epoch 020/060 | Loss 0.0025 | Win/lose count 2.0/21.00000000000003 (-19.00000000000003)\n",
      "Epoch 021/060 | Loss 0.0025 | Win/lose count 2.5/21.20000000000003 (-18.70000000000003)\n",
      "Epoch 022/060 | Loss 0.0025 | Win/lose count 2.0/21.10000000000003 (-19.10000000000003)\n",
      "Epoch 023/060 | Loss 0.0024 | Win/lose count 2.5/21.80000000000004 (-19.30000000000004)\n",
      "Epoch 024/060 | Loss 0.0109 | Win/lose count 0.5/20.900000000000027 (-20.400000000000027)\n",
      "Epoch 025/060 | Loss 0.0041 | Win/lose count 2.0/20.20000000000002 (-18.20000000000002)\n",
      "Epoch 026/060 | Loss 0.0040 | Win/lose count 1.0/22.40000000000005 (-21.40000000000005)\n",
      "Epoch 027/060 | Loss 0.0025 | Win/lose count 3.0/23.200000000000063 (-20.200000000000063)\n",
      "Epoch 028/060 | Loss 0.0024 | Win/lose count 2.5/22.100000000000048 (-19.600000000000048)\n",
      "Epoch 029/060 | Loss 0.0139 | Win/lose count 1.5/21.40000000000004 (-19.90000000000004)\n",
      "Epoch 030/060 | Loss 0.0024 | Win/lose count 1.0/18.699999999999996 (-17.699999999999996)\n",
      "Epoch 031/060 | Loss 0.0030 | Win/lose count 1.5/20.300000000000022 (-18.800000000000022)\n",
      "Epoch 032/060 | Loss 0.0031 | Win/lose count 1.0/21.20000000000003 (-20.20000000000003)\n",
      "Epoch 033/060 | Loss 0.0062 | Win/lose count 2.5/21.70000000000004 (-19.20000000000004)\n",
      "Epoch 034/060 | Loss 0.0025 | Win/lose count 0.5/20.900000000000034 (-20.400000000000034)\n",
      "Epoch 035/060 | Loss 0.0102 | Win/lose count 4.0/19.50000000000001 (-15.50000000000001)\n",
      "Epoch 036/060 | Loss 0.0195 | Win/lose count 3.5/20.600000000000012 (-17.100000000000012)\n",
      "Epoch 037/060 | Loss 0.0102 | Win/lose count 4.5/21.90000000000004 (-17.40000000000004)\n",
      "Epoch 038/060 | Loss 0.0043 | Win/lose count 2.0/20.000000000000014 (-18.000000000000014)\n",
      "Epoch 039/060 | Loss 0.0024 | Win/lose count 2.0/19.200000000000003 (-17.200000000000003)\n",
      "Epoch 040/060 | Loss 0.0029 | Win/lose count 1.0/21.10000000000003 (-20.10000000000003)\n",
      "Epoch 041/060 | Loss 0.0103 | Win/lose count 1.5/22.600000000000055 (-21.100000000000055)\n",
      "Epoch 042/060 | Loss 0.0038 | Win/lose count 1.5/22.700000000000053 (-21.200000000000053)\n",
      "Epoch 043/060 | Loss 0.0120 | Win/lose count 3.5/24.000000000000078 (-20.500000000000078)\n",
      "Epoch 044/060 | Loss 0.0141 | Win/lose count 1.5/20.600000000000023 (-19.100000000000023)\n",
      "Epoch 045/060 | Loss 0.0203 | Win/lose count 4.0/19.500000000000007 (-15.500000000000007)\n",
      "Epoch 046/060 | Loss 0.0025 | Win/lose count 3.0/25.80000000000011 (-22.80000000000011)\n",
      "Epoch 047/060 | Loss 0.0023 | Win/lose count 4.0/21.400000000000034 (-17.400000000000034)\n",
      "Epoch 048/060 | Loss 0.0046 | Win/lose count 3.0/22.000000000000043 (-19.000000000000043)\n",
      "Epoch 049/060 | Loss 0.0122 | Win/lose count 4.0/19.100000000000005 (-15.100000000000005)\n",
      "Epoch 050/060 | Loss 0.0139 | Win/lose count 2.0/21.300000000000033 (-19.300000000000033)\n",
      "Epoch 051/060 | Loss 0.0114 | Win/lose count 1.0/20.600000000000026 (-19.600000000000026)\n",
      "Epoch 052/060 | Loss 0.0044 | Win/lose count 4.5/21.600000000000037 (-17.100000000000037)\n",
      "Epoch 053/060 | Loss 0.0045 | Win/lose count 1.5/19.400000000000006 (-17.900000000000006)\n",
      "Epoch 054/060 | Loss 0.0024 | Win/lose count 1.5/20.900000000000027 (-19.400000000000027)\n",
      "Epoch 055/060 | Loss 0.0024 | Win/lose count 1.5/24.600000000000087 (-23.100000000000087)\n",
      "Epoch 056/060 | Loss 0.0042 | Win/lose count 0.5/21.300000000000033 (-20.800000000000033)\n",
      "Epoch 057/060 | Loss 0.0032 | Win/lose count 4.0/23.300000000000065 (-19.300000000000065)\n",
      "Epoch 058/060 | Loss 0.0025 | Win/lose count 3.5/18.9 (-15.399999999999999)\n",
      "Epoch 059/060 | Loss 0.0023 | Win/lose count 2.0/22.600000000000037 (-20.600000000000037)\n"
     ]
    },
    {
     "ename": "FileNotFoundError",
     "evalue": "[Errno 2] No such file or directory: 'cnn_train_explore10.mp4'",
     "output_type": "error",
     "traceback": [
      "\u001b[1;31m---------------------------------------------------------------------------\u001b[0m",
      "\u001b[1;31mFileNotFoundError\u001b[0m                         Traceback (most recent call last)",
      "\u001b[1;32m<ipython-input-24-13139b538be5>\u001b[0m in \u001b[0;36m<module>\u001b[1;34m()\u001b[0m\n\u001b[0;32m      3\u001b[0m \u001b[0magent\u001b[0m \u001b[1;33m=\u001b[0m \u001b[0mDQN_CNN\u001b[0m\u001b[1;33m(\u001b[0m\u001b[0msize\u001b[0m\u001b[1;33m,\u001b[0m \u001b[0mlr\u001b[0m\u001b[1;33m=\u001b[0m\u001b[1;36m.1\u001b[0m\u001b[1;33m,\u001b[0m \u001b[0mepsilon\u001b[0m \u001b[1;33m=\u001b[0m \u001b[1;36m0.1\u001b[0m\u001b[1;33m,\u001b[0m \u001b[0mmemory_size\u001b[0m\u001b[1;33m=\u001b[0m\u001b[1;36m2000\u001b[0m\u001b[1;33m,\u001b[0m \u001b[0mbatch_size\u001b[0m \u001b[1;33m=\u001b[0m \u001b[1;36m32\u001b[0m\u001b[1;33m,\u001b[0m\u001b[0mn_state\u001b[0m\u001b[1;33m=\u001b[0m\u001b[1;36m3\u001b[0m\u001b[1;33m)\u001b[0m\u001b[1;33m\u001b[0m\u001b[0m\n\u001b[0;32m      4\u001b[0m \u001b[0mtrain_explore\u001b[0m\u001b[1;33m(\u001b[0m\u001b[0magent\u001b[0m\u001b[1;33m,\u001b[0m \u001b[0menv\u001b[0m\u001b[1;33m,\u001b[0m \u001b[0mepochs_train\u001b[0m\u001b[1;33m,\u001b[0m \u001b[0mprefix\u001b[0m\u001b[1;33m=\u001b[0m\u001b[1;34m'cnn_train_explore'\u001b[0m\u001b[1;33m)\u001b[0m\u001b[1;33m\u001b[0m\u001b[0m\n\u001b[1;32m----> 5\u001b[1;33m \u001b[0mHTML\u001b[0m\u001b[1;33m(\u001b[0m\u001b[0mdisplay_videos\u001b[0m\u001b[1;33m(\u001b[0m\u001b[1;34m'cnn_train_explore10.mp4'\u001b[0m\u001b[1;33m)\u001b[0m\u001b[1;33m)\u001b[0m\u001b[1;33m\u001b[0m\u001b[0m\n\u001b[0m",
      "\u001b[1;32m<ipython-input-21-f57b6f93ce3b>\u001b[0m in \u001b[0;36mdisplay_videos\u001b[1;34m(name)\u001b[0m\n\u001b[0;32m      8\u001b[0m \u001b[1;31m# display videos\u001b[0m\u001b[1;33m\u001b[0m\u001b[1;33m\u001b[0m\u001b[0m\n\u001b[0;32m      9\u001b[0m \u001b[1;32mdef\u001b[0m \u001b[0mdisplay_videos\u001b[0m\u001b[1;33m(\u001b[0m\u001b[0mname\u001b[0m\u001b[1;33m)\u001b[0m\u001b[1;33m:\u001b[0m\u001b[1;33m\u001b[0m\u001b[0m\n\u001b[1;32m---> 10\u001b[1;33m     \u001b[0mvideo\u001b[0m \u001b[1;33m=\u001b[0m \u001b[0mio\u001b[0m\u001b[1;33m.\u001b[0m\u001b[0mopen\u001b[0m\u001b[1;33m(\u001b[0m\u001b[0mname\u001b[0m\u001b[1;33m,\u001b[0m \u001b[1;34m'r+b'\u001b[0m\u001b[1;33m)\u001b[0m\u001b[1;33m.\u001b[0m\u001b[0mread\u001b[0m\u001b[1;33m(\u001b[0m\u001b[1;33m)\u001b[0m\u001b[1;33m\u001b[0m\u001b[0m\n\u001b[0m\u001b[0;32m     11\u001b[0m     \u001b[0mencoded\u001b[0m \u001b[1;33m=\u001b[0m \u001b[0mbase64\u001b[0m\u001b[1;33m.\u001b[0m\u001b[0mb64encode\u001b[0m\u001b[1;33m(\u001b[0m\u001b[0mvideo\u001b[0m\u001b[1;33m)\u001b[0m\u001b[1;33m\u001b[0m\u001b[0m\n\u001b[0;32m     12\u001b[0m     return '''<video alt=\"test\" controls>\n",
      "\u001b[1;31mFileNotFoundError\u001b[0m: [Errno 2] No such file or directory: 'cnn_train_explore10.mp4'"
     ]
    }
   ],
   "source": [
    "# Training\n",
    "env = EnvironmentExploring(grid_size=size, max_time=T, temperature=0.3)\n",
    "agent = DQN_CNN(size, lr=.1, epsilon = 0.1, memory_size=2000, batch_size = 32,n_state=3)\n",
    "train_explore(agent, env, epochs_train, prefix='cnn_train_explore')\n",
    "HTML(display_videos('cnn_train_explore10.mp4'))"
   ]
  },
  {
   "cell_type": "code",
   "execution_count": 25,
   "metadata": {},
   "outputs": [
    {
     "name": "stdout",
     "output_type": "stream",
     "text": [
      "Win/lose count 4.5/2.0. Average score (2.5)\n",
      "Win/lose count 2.5/1.0. Average score (2.0)\n",
      "Win/lose count 1.5/0. Average score (1.8333333333333333)\n",
      "Win/lose count 0.5/4.0. Average score (0.5)\n",
      "Win/lose count 4.0/1.0. Average score (1.0)\n",
      "Win/lose count 4.0/1.0. Average score (1.3333333333333333)\n",
      "Win/lose count 3.0/1.0. Average score (1.4285714285714286)\n",
      "Win/lose count 2.0/2.0. Average score (1.25)\n",
      "Win/lose count 1.0/2.0. Average score (1.0)\n",
      "Win/lose count 1.5/1.0. Average score (0.95)\n",
      "Win/lose count 0/0. Average score (0.8636363636363636)\n",
      "Win/lose count 1.0/0. Average score (0.875)\n",
      "Win/lose count 1.5/0. Average score (0.9230769230769231)\n",
      "Win/lose count 3.5/6.0. Average score (0.6785714285714286)\n",
      "Win/lose count 3.5/0. Average score (0.8666666666666667)\n",
      "Win/lose count 1.0/1.0. Average score (0.8125)\n",
      "Win/lose count 4.0/0. Average score (1.0)\n",
      "Win/lose count 2.0/2.0. Average score (0.9444444444444444)\n",
      "Win/lose count 0/0. Average score (0.8947368421052632)\n",
      "Win/lose count 3.0/3.0. Average score (0.85)\n",
      "Win/lose count 0/2.0. Average score (0.7142857142857143)\n",
      "Win/lose count 2.0/0. Average score (0.7727272727272727)\n",
      "Win/lose count 2.5/2.0. Average score (0.7608695652173914)\n",
      "Win/lose count 3.5/6.0. Average score (0.625)\n",
      "Win/lose count 0.5/2.0. Average score (0.54)\n",
      "Win/lose count 1.0/2.0. Average score (0.4807692307692308)\n",
      "Win/lose count 2.5/3.0. Average score (0.4444444444444444)\n",
      "Win/lose count 1.5/5.0. Average score (0.30357142857142855)\n",
      "Win/lose count 1.0/1.0. Average score (0.29310344827586204)\n",
      "Win/lose count 3.5/6.0. Average score (0.2)\n",
      "Final score: 0.2\n"
     ]
    },
    {
     "data": {
      "text/html": [
       "<video alt=\"test\" controls>\n",
       "                <source src=\"data:video/mp4;base64,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\" type=\"video/mp4\" />\n",
       "             </video>"
      ],
      "text/plain": [
       "<IPython.core.display.HTML object>"
      ]
     },
     "execution_count": 25,
     "metadata": {},
     "output_type": "execute_result"
    }
   ],
   "source": [
    "# Evaluation\n",
    "test(agent,env,epochs_test,prefix='cnn_test_explore')\n",
    "HTML(display_videos('cnn_test_explore10.mp4'))"
   ]
  },
  {
   "cell_type": "markdown",
   "metadata": {},
   "source": [
    "***\n",
    "***\n",
    "__BONUS question__ Use the expert DQN from the previous question to generate some winning games. Train a model that mimicks its behavior. Compare the performances."
   ]
  },
  {
   "cell_type": "markdown",
   "metadata": {},
   "source": []
  },
  {
   "cell_type": "markdown",
   "metadata": {},
   "source": [
    "***"
   ]
  }
 ],
 "metadata": {
  "kernelspec": {
   "display_name": "Python 3",
   "language": "python",
   "name": "python3"
  },
  "language_info": {
   "codemirror_mode": {
    "name": "ipython",
    "version": 3
   },
   "file_extension": ".py",
   "mimetype": "text/x-python",
   "name": "python",
   "nbconvert_exporter": "python",
   "pygments_lexer": "ipython3",
   "version": "3.6.4"
  }
 },
 "nbformat": 4,
 "nbformat_minor": 2
}
