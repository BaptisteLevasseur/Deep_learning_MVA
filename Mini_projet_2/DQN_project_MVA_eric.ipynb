{
 "cells": [
  {
   "cell_type": "markdown",
   "metadata": {},
   "source": [
    "**You may need to install [OpenCV](https://pypi.python.org/pypi/opencv-python) and [scikit-video](http://www.scikit-video.org/stable/).**"
   ]
  },
  {
   "cell_type": "code",
   "execution_count": 13,
   "metadata": {},
   "outputs": [],
   "source": [
    "import keras\n",
    "import numpy as np\n",
    "import io\n",
    "import base64\n",
    "from IPython.display import HTML\n",
    "import skvideo.io\n",
    "import cv2\n",
    "import json\n",
    "from keras.models import Sequential,model_from_json\n",
    "from keras.layers.core import Dense\n",
    "from keras.optimizers import sgd\n",
    "from keras.layers import Conv2D, MaxPooling2D, Activation, AveragePooling2D,Reshape,BatchNormalization"
   ]
  },
  {
   "cell_type": "markdown",
   "metadata": {},
   "source": [
    "# MiniProject #3: Deep Reinforcement Learning"
   ]
  },
  {
   "cell_type": "markdown",
   "metadata": {},
   "source": [
    "__Notations__: $E_p$ is the expectation under probability $p$. Please justify each of your answer and widely comment your code."
   ]
  },
  {
   "cell_type": "markdown",
   "metadata": {},
   "source": [
    "# Context"
   ]
  },
  {
   "cell_type": "markdown",
   "metadata": {},
   "source": [
    "In a reinforcement learning algorithm, we modelize each step $t$ as an action $a_t$ obtained from a state $s_t$, i.e. $\\{(a_{t},s_{t})_{t\\leq T}\\}$ having the Markov property. We consider a discount factor $\\gamma \\in [0,1]$ that ensures convergence. The goal is to find among all the policies $\\pi$, one that maximizes the expected reward:\n",
    "\n",
    "\\begin{equation*}\n",
    "R(\\pi)=\\sum_{t\\leq T}E_{p^{\\pi}}[\\gamma^t r(s_{t},a_{t})] \\> ,\n",
    "\\end{equation*}\n",
    "\n",
    "where: \n",
    "\\begin{equation*}p^{\\pi}(a_{0},a_{1},s_{1},...,a_{T},s_{T})=p(a_{0})\\prod_{t=1}^{T}\\pi(a_{t}|s_{t})p(s_{t+1}|s_{t},a_{t}) \\> .\n",
    "\\end{equation*}\n",
    "\n",
    "We note the $Q$-function:\n",
    "\n",
    "\\begin{equation*}Q^\\pi(s,a)=E_{p^{\\pi}}[\\sum_{t\\leq T}\\gamma^{t}r(s_{t},a_{t})|s_{0}=s,a_{0}=a] \\> .\n",
    "\\end{equation*}\n",
    "\n",
    "Thus, the optimal Q function is:\n",
    "\\begin{equation*}\n",
    "Q^*(s,a)=\\max_{\\pi}Q^\\pi(s,a) \\> .\n",
    "\\end{equation*}\n",
    "\n",
    "In this project, we will apply the deep reinforcement learning techniques to a simple game: an agent will have to learn from scratch a policy that will permit it maximizing a reward."
   ]
  },
  {
   "cell_type": "markdown",
   "metadata": {},
   "source": [
    "## The environment, the agent and the game"
   ]
  },
  {
   "cell_type": "markdown",
   "metadata": {},
   "source": [
    "### The environment"
   ]
  },
  {
   "cell_type": "markdown",
   "metadata": {},
   "source": [
    "```Environment``` is an abstract class that represents the states, rewards, and actions to obtain the new state."
   ]
  },
  {
   "cell_type": "code",
   "execution_count": 2,
   "metadata": {},
   "outputs": [],
   "source": [
    "class Environment(object):\n",
    "    def __init__(self):\n",
    "        pass\n",
    "\n",
    "    def act(self, act):\n",
    "        \"\"\"\n",
    "        One can act on the environment and obtain its reaction:\n",
    "        - the new state\n",
    "        - the reward of the new state\n",
    "        - should we continue the game?\n",
    "\n",
    "        :return: state, reward, game_over\n",
    "        \"\"\"\n",
    "        pass\n",
    "\n",
    "\n",
    "    def reset(self):\n",
    "        \"\"\"\n",
    "        Reinitialize the environment to a random state and returns\n",
    "        the original state\n",
    "\n",
    "        :return: state\n",
    "        \"\"\"\n",
    "        pass\n",
    "    \n",
    "    def draw(self):\n",
    "        \"\"\"\n",
    "        Visualize in the console or graphically the current state\n",
    "        \"\"\"\n",
    "        pass"
   ]
  },
  {
   "cell_type": "markdown",
   "metadata": {},
   "source": [
    "The method ```act``` allows to act on the environment at a given state $s_t$ (stored internally), via action $a_t$. The method will return the new state $s_{t+1}$, the reward $r(s_{t},a_{t})$ and determines if $t\\leq T$ (*game_over*).\n",
    "\n",
    "The method ```reset``` simply reinitializes the environment to a random state $s_0$.\n",
    "\n",
    "The method ```draw``` displays the current state $s_t$ (this is useful to check the behavior of the Agent).\n",
    "\n",
    "We modelize $s_t$ as a tensor, while $a_t$ is an integer."
   ]
  },
  {
   "cell_type": "markdown",
   "metadata": {},
   "source": [
    "### The Agent"
   ]
  },
  {
   "cell_type": "markdown",
   "metadata": {},
   "source": [
    "The goal of the ```Agent``` is to interact with the ```Environment``` by proposing actions $a_t$ obtained from a given state $s_t$ to attempt to maximize its __reward__ $r(s_t,a_t)$. We propose the following abstract class:"
   ]
  },
  {
   "cell_type": "code",
   "execution_count": 3,
   "metadata": {},
   "outputs": [],
   "source": [
    "class Agent(object):\n",
    "    def __init__(self, epsilon=0.1, n_action=4):\n",
    "        self.epsilon = epsilon\n",
    "        self.n_action = n_action\n",
    "    \n",
    "    def set_epsilon(self,e):\n",
    "        self.epsilon = e\n",
    "\n",
    "    def act(self,s,train=True):\n",
    "        \"\"\" This function should return the next action to do:\n",
    "        an integer between 0 and 4 (not included) with a random exploration of epsilon\"\"\"\n",
    "        if train:\n",
    "            if np.random.rand() <= self.epsilon:\n",
    "                a = np.random.randint(0, self.n_action, size=1)[0]\n",
    "            else:\n",
    "                a = self.learned_act(s)\n",
    "        else: # in some cases, this can improve the performance.. remove it if poor performances\n",
    "            a = self.learned_act(s)\n",
    "\n",
    "        return a\n",
    "\n",
    "    def learned_act(self,s):\n",
    "        \"\"\" Act via the policy of the agent, from a given state s\n",
    "        it proposes an action a\"\"\"\n",
    "        pass\n",
    "\n",
    "    def reinforce(self, s, n_s, a, r, game_over_):\n",
    "        \"\"\" This function is the core of the learning algorithm. \n",
    "        It takes as an input the current state s_, the next state n_s_\n",
    "        the action a_ used to move from s_ to n_s_ and the reward r_.\n",
    "        \n",
    "        Its goal is to learn a policy.\n",
    "        \"\"\"\n",
    "        pass\n",
    "\n",
    "    def save(self):\n",
    "        \"\"\" This function returns basic stats if applicable: the\n",
    "        loss and/or the model\"\"\"\n",
    "        pass\n",
    "\n",
    "    def load(self):\n",
    "        \"\"\" This function allows to restore a model\"\"\"\n",
    "        pass"
   ]
  },
  {
   "cell_type": "markdown",
   "metadata": {},
   "source": [
    "***\n",
    "__Question 1__:\n",
    "Explain the function act. Why is ```epsilon``` essential?"
   ]
  },
  {
   "cell_type": "markdown",
   "metadata": {},
   "source": [
    "Epsilon is essential for random exploration. Indeed, it allows the agent to discover new (state,action), thus learn new strategies that improves the current policy."
   ]
  },
  {
   "cell_type": "markdown",
   "metadata": {},
   "source": [
    "***\n",
    "### The Game"
   ]
  },
  {
   "cell_type": "markdown",
   "metadata": {},
   "source": [
    "The ```Agent``` and the ```Environment``` work in an interlaced way as in the following (take some time to understand this code as it is the core of the project)\n",
    "\n",
    "```python\n",
    "\n",
    "epoch = 300\n",
    "env = Environment()\n",
    "agent = Agent()\n",
    "\n",
    "\n",
    "# Number of won games\n",
    "score = 0\n",
    "loss = 0\n",
    "\n",
    "\n",
    "for e in range(epoch):\n",
    "    # At each epoch, we restart to a fresh game and get the initial state\n",
    "    state = env.reset()\n",
    "    # This assumes that the games will end\n",
    "    game_over = False\n",
    "\n",
    "    win = 0\n",
    "    lose = 0\n",
    "    \n",
    "    while not game_over:\n",
    "        # The agent performs an action\n",
    "        action = agent.act(state)\n",
    "\n",
    "        # Apply an action to the environment, get the next state, the reward\n",
    "        # and if the games end\n",
    "        prev_state = state\n",
    "        state, reward, game_over = env.act(action)\n",
    "\n",
    "        # Update the counters\n",
    "        if reward > 0:\n",
    "            win = win + reward\n",
    "        if reward < 0:\n",
    "            lose = lose -reward\n",
    "\n",
    "        # Apply the reinforcement strategy\n",
    "        loss = agent.reinforce(prev_state, state,  action, reward, game_over)\n",
    "\n",
    "    # Save as a mp4\n",
    "    if e % 10 == 0:\n",
    "        env.draw(e)\n",
    "\n",
    "    # Update stats\n",
    "    score += win-lose\n",
    "\n",
    "    print(\"Epoch {:03d}/{:03d} | Loss {:.4f} | Win/lose count {}/{} ({})\"\n",
    "          .format(e, epoch, loss, win, lose, win-lose))\n",
    "    agent.save()\n",
    "```"
   ]
  },
  {
   "cell_type": "markdown",
   "metadata": {},
   "source": [
    "# The game, *eat cheese*"
   ]
  },
  {
   "cell_type": "markdown",
   "metadata": {},
   "source": [
    "A rat runs on an island and tries to eat as much as possible. The island is subdivided into $N\\times N$ cells, in which there are cheese (+0.5) and poisonous cells (-1). The rat has a visibility of 2 cells (thus it can see $5^2$ cells). The rat is given a time $T$ to accumulate as much food as possible. It can perform 4 actions: going up, down, left, right. \n",
    "\n",
    "The goal is to code an agent to solve this task that will learn by trial and error. We propose the following environment:"
   ]
  },
  {
   "cell_type": "code",
   "execution_count": 4,
   "metadata": {},
   "outputs": [],
   "source": [
    "class Environment(object):\n",
    "    def __init__(self, grid_size=10, max_time=500, temperature=0.1):\n",
    "        grid_size = grid_size+4\n",
    "        self.grid_size = grid_size\n",
    "        self.max_time = max_time\n",
    "        self.temperature = temperature\n",
    "\n",
    "        #board on which one plays\n",
    "        self.board = np.zeros((grid_size,grid_size))\n",
    "        self.position = np.zeros((grid_size,grid_size))\n",
    "\n",
    "        # coordinate of the cat\n",
    "        self.x = 0\n",
    "        self.y = 1\n",
    "\n",
    "        # self time\n",
    "        self.t = 0\n",
    "        self.scale=16\n",
    "        self.to_draw = np.zeros((max_time+2, grid_size*self.scale, grid_size*self.scale, 3))\n",
    "\n",
    "\n",
    "    def draw(self,e):\n",
    "        skvideo.io.vwrite(str(e) + '.mp4', self.to_draw)\n",
    "\n",
    "    def get_frame(self,t):\n",
    "        b = np.zeros((self.grid_size,self.grid_size,3))+128\n",
    "        b[self.board>0,0] = 256\n",
    "        b[self.board < 0, 2] = 256\n",
    "        b[self.x,self.y,:]=256\n",
    "        b[-2:,:,:]=0\n",
    "        b[:,-2:,:]=0\n",
    "        b[:2,:,:]=0\n",
    "        b[:,:2,:]=0\n",
    "        \n",
    "        b =  cv2.resize(b, None, fx=self.scale, fy=self.scale, interpolation=cv2.INTER_NEAREST)\n",
    "\n",
    "        self.to_draw[t,:,:,:]=b\n",
    "\n",
    "\n",
    "    def act(self, action):\n",
    "        \"\"\"This function returns the new state, reward and decides if the\n",
    "        game ends.\"\"\"\n",
    "\n",
    "        self.get_frame(int(self.t))\n",
    "\n",
    "        self.position = np.zeros((self.grid_size, self.grid_size))\n",
    "\n",
    "        self.position[0:2,:]= -1\n",
    "        self.position[:,0:2] = -1\n",
    "        self.position[-2:, :] = -1\n",
    "        self.position[-2:, :] = -1\n",
    "\n",
    "        self.position[self.x, self.y] = 1\n",
    "        if action == 0:\n",
    "            if self.x == self.grid_size-3:\n",
    "                self.x = self.x-1\n",
    "            else:\n",
    "                self.x = self.x + 1\n",
    "        elif action == 1:\n",
    "            if self.x == 2:\n",
    "                self.x = self.x+1\n",
    "            else:\n",
    "                self.x = self.x-1\n",
    "        elif action == 2:\n",
    "            if self.y == self.grid_size - 3:\n",
    "                self.y = self.y - 1\n",
    "            else:\n",
    "                self.y = self.y + 1\n",
    "        elif action == 3:\n",
    "            if self.y == 2:\n",
    "                self.y = self.y + 1\n",
    "            else:\n",
    "                self.y = self.y - 1\n",
    "        else:\n",
    "            RuntimeError('Error: action not recognized')\n",
    "\n",
    "        self.t = self.t + 1\n",
    "        reward = self.board[self.x, self.y]\n",
    "        self.board[self.x, self.y] = 0\n",
    "        game_over = self.t > self.max_time\n",
    "        state = np.concatenate((self.board.reshape(self.grid_size, self.grid_size,1),\n",
    "                        self.position.reshape(self.grid_size, self.grid_size,1)),axis=2)\n",
    "        state = state[self.x-2:self.x+3,self.y-2:self.y+3,:]\n",
    "\n",
    "        return state, reward, game_over\n",
    "\n",
    "    def reset(self):\n",
    "        \"\"\"This function resets the game and returns the initial state\"\"\"\n",
    "\n",
    "        self.x = np.random.randint(3, self.grid_size-3, size=1)[0]\n",
    "        self.y = np.random.randint(3, self.grid_size-3, size=1)[0]\n",
    "\n",
    "\n",
    "        bonus = 0.5*np.random.binomial(1,self.temperature,size=self.grid_size**2)\n",
    "        bonus = bonus.reshape(self.grid_size,self.grid_size)\n",
    "\n",
    "        malus = -1.0*np.random.binomial(1,self.temperature,size=self.grid_size**2)\n",
    "        malus = malus.reshape(self.grid_size, self.grid_size)\n",
    "\n",
    "        self.to_draw = np.zeros((self.max_time+2, self.grid_size*self.scale, self.grid_size*self.scale, 3))\n",
    "\n",
    "\n",
    "        malus[bonus>0]=0\n",
    "\n",
    "        self.board = bonus + malus\n",
    "\n",
    "        self.position = np.zeros((self.grid_size, self.grid_size))\n",
    "        self.position[0:2,:]= -1\n",
    "        self.position[:,0:2] = -1\n",
    "        self.position[-2:, :] = -1\n",
    "        self.position[-2:, :] = -1\n",
    "        self.board[self.x,self.y] = 0\n",
    "        self.t = 0\n",
    "\n",
    "        state = np.concatenate((\n",
    "                               self.board.reshape(self.grid_size, self.grid_size,1),\n",
    "                        self.position.reshape(self.grid_size, self.grid_size,1)),axis=2)\n",
    "\n",
    "        state = state[self.x - 2:self.x + 3, self.y - 2:self.y + 3, :]\n",
    "        return state"
   ]
  },
  {
   "cell_type": "markdown",
   "metadata": {},
   "source": [
    "The following elements are important because they correspond to the hyper parameters for this project:"
   ]
  },
  {
   "cell_type": "code",
   "execution_count": 5,
   "metadata": {},
   "outputs": [],
   "source": [
    "# parameters\n",
    "size = 13\n",
    "T=200\n",
    "temperature=0.3\n",
    "epochs_train=30 # set small when debugging\n",
    "epochs_test=30 # set small when debugging\n",
    "\n",
    "# display videos\n",
    "def display_videos(name):\n",
    "    video = io.open(name, 'r+b').read()\n",
    "    encoded = base64.b64encode(video)\n",
    "    return '''<video alt=\"test\" controls>\n",
    "                <source src=\"data:video/mp4;base64,{0}\" type=\"video/mp4\" />\n",
    "             </video>'''.format(encoded.decode('ascii'))"
   ]
  },
  {
   "cell_type": "markdown",
   "metadata": {},
   "source": [
    "__Question 2__ Explain the use of the arrays ```position``` and ```board```."
   ]
  },
  {
   "cell_type": "markdown",
   "metadata": {},
   "source": [
    "Board stores the cheese and poisonous cells positions. It is updated if the rat moves on one of these cells.\n",
    "On the other hand, the position array track the position of the rat."
   ]
  },
  {
   "cell_type": "markdown",
   "metadata": {},
   "source": [
    "## Random Agent"
   ]
  },
  {
   "cell_type": "markdown",
   "metadata": {},
   "source": [
    "***\n",
    "__Question 3__ Implement a random Agent (only ```learned_act``` needs to be implemented):"
   ]
  },
  {
   "cell_type": "code",
   "execution_count": 6,
   "metadata": {},
   "outputs": [],
   "source": [
    "class RandomAgent(Agent):\n",
    "    def __init__(self):\n",
    "        super(RandomAgent, self).__init__()\n",
    "        pass\n",
    "\n",
    "    def learned_act(self, s):\n",
    "        return np.random.randint(0,4)"
   ]
  },
  {
   "cell_type": "markdown",
   "metadata": {},
   "source": [
    "***\n",
    "***\n",
    "__Question 4__ Visualize the game moves. You need to fill in the following function for the evaluation:"
   ]
  },
  {
   "cell_type": "code",
   "execution_count": 7,
   "metadata": {},
   "outputs": [],
   "source": [
    "def test(agent,env,epochs,prefix=''):\n",
    "    # Number of won games\n",
    "    score = 0\n",
    "        \n",
    "    for e in range(epochs):\n",
    "    \n",
    "        state = env.reset()\n",
    "        game_over = False\n",
    "        win = 0\n",
    "        lose = 0\n",
    "    \n",
    "        while not game_over:\n",
    "            # The agent performs an action\n",
    "            action = agent.act(state)\n",
    "            prev_state = state\n",
    "            state, reward, game_over = env.act(action)\n",
    "            if reward > 0:\n",
    "                win = win + reward\n",
    "            if reward < 0:\n",
    "                lose = lose -reward\n",
    "\n",
    "            # Apply the reinforcement strategy\n",
    "            loss = agent.reinforce(prev_state, state,  action, reward, game_over)\n",
    "        \n",
    "        # Save as a mp4\n",
    "        env.draw(prefix+str(e))\n",
    "\n",
    "        # Update stats\n",
    "        score = score + win-lose\n",
    "\n",
    "        print(\"Win/lose count {}/{}. Average score ({})\"\n",
    "              .format(win, lose, score/(1+e)))\n",
    "    print('Final score: '+str(score/epochs))"
   ]
  },
  {
   "cell_type": "code",
   "execution_count": 8,
   "metadata": {},
   "outputs": [
    {
     "name": "stdout",
     "output_type": "stream",
     "text": [
      "Win/lose count 10.0/21.0. Average score (-11.0)\n",
      "Win/lose count 7.0/12.0. Average score (-8.0)\n",
      "Win/lose count 6.0/8.0. Average score (-6.0)\n",
      "Win/lose count 11.0/8.0. Average score (-3.75)\n",
      "Win/lose count 10.0/14.0. Average score (-3.8)\n",
      "Win/lose count 12.5/16.0. Average score (-3.75)\n",
      "Win/lose count 9.0/16.0. Average score (-4.214285714285714)\n",
      "Win/lose count 13.5/22.0. Average score (-4.75)\n",
      "Win/lose count 10.5/16.0. Average score (-4.833333333333333)\n",
      "Win/lose count 9.0/17.0. Average score (-5.15)\n",
      "Win/lose count 3.5/13.0. Average score (-5.545454545454546)\n",
      "Win/lose count 10.0/9.0. Average score (-5.0)\n",
      "Win/lose count 13.0/22.0. Average score (-5.3076923076923075)\n",
      "Win/lose count 6.5/10.0. Average score (-5.178571428571429)\n",
      "Win/lose count 7.0/12.0. Average score (-5.166666666666667)\n",
      "Win/lose count 13.5/16.0. Average score (-5.0)\n",
      "Win/lose count 13.0/12.0. Average score (-4.647058823529412)\n",
      "Win/lose count 10.5/14.0. Average score (-4.583333333333333)\n",
      "Win/lose count 13.0/16.0. Average score (-4.5)\n",
      "Win/lose count 8.0/15.0. Average score (-4.625)\n",
      "Win/lose count 13.0/6.0. Average score (-4.071428571428571)\n",
      "Win/lose count 13.0/11.0. Average score (-3.7954545454545454)\n",
      "Win/lose count 12.0/18.0. Average score (-3.891304347826087)\n",
      "Win/lose count 11.0/18.0. Average score (-4.020833333333333)\n",
      "Win/lose count 7.5/19.0. Average score (-4.32)\n",
      "Win/lose count 12.5/15.0. Average score (-4.25)\n",
      "Win/lose count 13.0/20.0. Average score (-4.351851851851852)\n",
      "Win/lose count 10.5/5.0. Average score (-4.0)\n",
      "Win/lose count 10.0/18.0. Average score (-4.137931034482759)\n",
      "Win/lose count 8.0/9.0. Average score (-4.033333333333333)\n",
      "Final score: -4.03333333333\n"
     ]
    },
    {
     "data": {
      "text/html": [
       "<video alt=\"test\" controls>\n",
       "                <source src=\"data:video/mp4;base64,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\" type=\"video/mp4\" />\n",
       "             </video>"
      ],
      "text/plain": [
       "<IPython.core.display.HTML object>"
      ]
     },
     "execution_count": 8,
     "metadata": {},
     "output_type": "execute_result"
    }
   ],
   "source": [
    "# Initialize the game\n",
    "env = Environment(grid_size=size, max_time=T,temperature=temperature)\n",
    "\n",
    "# Initialize the agent!\n",
    "agent = RandomAgent()\n",
    "\n",
    "test(agent,env,epochs_test,prefix='random')\n",
    "HTML(display_videos('random0.mp4'))"
   ]
  },
  {
   "cell_type": "markdown",
   "metadata": {},
   "source": [
    "***\n",
    "## DQN"
   ]
  },
  {
   "cell_type": "markdown",
   "metadata": {},
   "source": [
    "Let us assume here that $T=\\infty$.\n",
    "\n",
    "***\n",
    "__Question 5__ Let $\\pi$ be a policy, show that:\n",
    "\n",
    "\\begin{equation*}\n",
    "Q^{\\pi}(s,a)=E_{(s',a')\\sim p(.|s,a)}[r(s,a)+\\gamma Q^{\\pi}(s',a')]\n",
    "\\end{equation*}\n",
    "\n",
    "Then, show that for the optimal policy $\\pi^*$ (we assume its existence), the following holds: \n",
    "\n",
    "\\begin{equation*}\n",
    "Q^{*}(s,a)=E_{s'\\sim \\pi^*(.|s,a)}[r(s,a)+\\gamma\\max_{a'}Q^{*}(s',a')].\n",
    "\\end{equation*}\n",
    "Finally, deduce that a plausible objective is:\n",
    "\n",
    "\\begin{equation*}\n",
    "\\mathcal{L}(\\theta)=E_{s' \\sim \\pi^*(.|s,a)}\\Vert r+\\gamma\\max\\max_{a'}Q(s',a',\\theta)-Q(s,a,\\theta)\\Vert^{2}.\n",
    "\\end{equation*}\n",
    "\n",
    "\n"
   ]
  },
  {
   "cell_type": "markdown",
   "metadata": {},
   "source": [
    "Let $\\pi(.|s)$ denote the policy distribution, and $p(.|s,a)$ the transition probability distribution of states. The distribution of the couple $(s',a')$ given $(s,a)$ is given by :\n",
    "\\begin{equation*}\n",
    "p(s',a'|s,a) = \\pi(a'|s)p(s'|s,a)\n",
    "\\end{equation*}\n",
    "We write the definition of the $Q$ function:\n",
    "\n",
    "\\begin{align*}\n",
    "Q^\\pi(s,a) &= E_{p^{\\pi}}[\\sum_{t = 0}^{\\infty}\\gamma^{t}r(s_{t},a_{t})|s_{0}=s,a_{0}=a] \\\\\n",
    "&= r(s,a) + \\gamma E_{p^{\\pi}}[\\sum_{t = 0}^{\\infty}\\gamma^{t}r(s_{t+1},a_{t+1})|s_{0}=s,a_{0}=a] \\\\\n",
    "&= r(s,a) + \\gamma \\sum_{(s',a')} \\mathbb{P}(s_1 = s'|s_0 = s, a_0=a) \\pi(a_0 = a'|s_0=s) E_{p^{\\pi}}[\\sum_{t = 0}^{\\infty}\\gamma^{t}r(s_{t},a_{t})|s_{0}=s',a_{0}=a'] \\\\\n",
    "&= r(s,a) + \\gamma \\sum_{(s',a')} p(s',a'|s,a) Q^{\\pi}(s',a') \\\\\n",
    "&= r(s,a) + \\gamma E_{(s',a')\\sim p(.|s,a)}[Q^{\\pi}(s',a')] \\\\\n",
    "&= E_{(s',a')\\sim p(.|s,a)}[r(s,a)+\\gamma Q^{\\pi}(s',a')]\n",
    "\\end{align*}\n"
   ]
  },
  {
   "cell_type": "markdown",
   "metadata": {},
   "source": [
    "***\n",
    "The DQN-learning algorithm relies on these derivations to train the parameters $\\theta$ of a Deep Neural Network:\n",
    "\n",
    "1. At the state $s_t$, select the action $a_t$ with best reward using $Q_t$ and store the results;\n",
    "\n",
    "2. Obtain the new state $s_{t+1}$ from the environment $p$;\n",
    "\n",
    "3. Store $(s_t,a_t,s_{t+1})$;\n",
    "\n",
    "4. Obtain $Q_{t+1}$ by minimizing  $\\mathcal{L}$ from a recovered batch from the previously stored results.\n",
    "\n",
    "***\n",
    "__Question 6__ Implement the class ```Memory``` that stores moves (in a replay buffer) via ```remember``` and provides a ```random_access``` to these. Specify a maximum memory size to avoid side effects. You can for example use a ```list()``` and set by default ```max_memory=100```."
   ]
  },
  {
   "cell_type": "code",
   "execution_count": 9,
   "metadata": {},
   "outputs": [],
   "source": [
    "import random\n",
    "class Memory(object):\n",
    "    def __init__(self, max_memory=100):\n",
    "        self.max_memory = max_memory\n",
    "        self.memory = list()\n",
    "\n",
    "    def remember(self, m):\n",
    "        if len(self.memory)==self.max_memory:\n",
    "            self.memory.pop(0)\n",
    "        self.memory.append(m)\n",
    "\n",
    "    def random_access(self):\n",
    "        return random.choice(self.memory)"
   ]
  },
  {
   "cell_type": "markdown",
   "metadata": {},
   "source": [
    "***\n",
    "The pipeline we will use for training is given below:"
   ]
  },
  {
   "cell_type": "code",
   "execution_count": 10,
   "metadata": {},
   "outputs": [],
   "source": [
    "def train(agent,env,epoch,prefix=''):\n",
    "    # Number of won games\n",
    "    score = 0\n",
    "    loss = 0\n",
    "\n",
    "    for e in range(epoch):\n",
    "        # At each epoch, we restart to a fresh game and get the initial state\n",
    "        state = env.reset()\n",
    "        # This assumes that the games will terminate\n",
    "        game_over = False\n",
    "\n",
    "        win = 0\n",
    "        lose = 0\n",
    "\n",
    "        while not game_over:\n",
    "            # The agent performs an action\n",
    "            action = agent.act(state)\n",
    "\n",
    "            # Apply an action to the environment, get the next state, the reward\n",
    "            # and if the games end\n",
    "            prev_state = state\n",
    "            state, reward, game_over = env.act(action)\n",
    "\n",
    "            # Update the counters\n",
    "            if reward > 0:\n",
    "                win = win + reward\n",
    "            if reward < 0:\n",
    "                lose = lose -reward\n",
    "\n",
    "            # Apply the reinforcement strategy\n",
    "            loss = agent.reinforce(prev_state, state,  action, reward, game_over)\n",
    "\n",
    "        # Save as a mp4\n",
    "        if e % 10 == 0:\n",
    "            env.draw(prefix+str(e))\n",
    "\n",
    "        # Update stats\n",
    "        score += win-lose\n",
    "\n",
    "        print(\"Epoch {:03d}/{:03d} | Loss {:.4f} | Win/lose count {}/{} ({})\"\n",
    "              .format(e, epoch, loss, win, lose, win-lose))\n",
    "        agent.save(name_weights=prefix+'model.h5',name_model=prefix+'model.json')"
   ]
  },
  {
   "cell_type": "markdown",
   "metadata": {},
   "source": [
    "***\n",
    "__Question 7__ Implement the DQN training algorithm using a cascade of fully connected layers. You can use different learning rate, batch size or memory size parameters. In particular, the loss might oscillate while the player will start to win the games. You have to find a good criterium."
   ]
  },
  {
   "cell_type": "code",
   "execution_count": 19,
   "metadata": {},
   "outputs": [],
   "source": [
    "from keras.layers import Flatten\n",
    "class DQN(Agent):\n",
    "    def __init__(self, grid_size,  epsilon = 0.1, memory_size=100, batch_size = 16,n_state=2):\n",
    "        super(DQN, self).__init__(epsilon = epsilon)\n",
    "\n",
    "        # Discount for Q learning\n",
    "        self.discount = 0.99\n",
    "        \n",
    "        self.grid_size = grid_size\n",
    "        \n",
    "        # number of state\n",
    "        self.n_state = n_state\n",
    "\n",
    "        # Memory\n",
    "        self.memory = Memory(memory_size)\n",
    "        \n",
    "        # Batch size when learning\n",
    "        self.batch_size = batch_size\n",
    "        \n",
    "    def learned_act(self, s):\n",
    "        a =  np.argmax(self.model.predict(s.reshape(1,s.shape[0],s.shape[1],s.shape[2])))\n",
    "        return a\n",
    "\n",
    "    def reinforce(self, s_, n_s_, a_, r_, game_over_):\n",
    "        # Two steps: first memorize the states, second learn from the pool\n",
    "        #https://ai.intel.com/demystifying-deep-reinforcement-learning/\n",
    "        self.memory.remember([s_, n_s_, a_, r_,game_over_])\n",
    "        \n",
    "        input_states = np.zeros((self.batch_size, 5,5,self.n_state))\n",
    "        target_q = np.zeros((self.batch_size, 4))\n",
    "        shape_state=(1,s_.shape[0],s_.shape[1],s_.shape[2])\n",
    "        for i in range(self.batch_size):\n",
    "            transition=self.memory.random_access()\n",
    "            \n",
    "            target_q[i]=self.model.predict(transition[0].reshape(shape_state))\n",
    "            if transition[3]==0: # penalisation for doing nothing\n",
    "                transition[3]=-0.01\n",
    "                \n",
    "            if transition[4]: # game over\n",
    "                target_q[i,transition[2]]=transition[3]\n",
    "            else:\n",
    "                target_q[i,transition[2]]=transition[3]+self.discount*np.max(self.model.predict(transition[1].reshape(shape_state)))\n",
    "            input_states[i]=transition[0]\n",
    "        # HINT: Clip the target to avoid exploiding gradients.. -- clipping is a bit tighter\n",
    "        target_q = np.clip(target_q, -3, 3)\n",
    "        l = self.model.train_on_batch(input_states, target_q)\n",
    "        return l\n",
    "\n",
    "    def save(self,name_weights='model.h5',name_model='model.json'):\n",
    "        self.model.save_weights(name_weights, overwrite=True)\n",
    "        with open(name_model, \"w\") as outfile:\n",
    "            json.dump(self.model.to_json(), outfile)\n",
    "            \n",
    "    def load(self,name_weights='model.h5',name_model='model.json'):\n",
    "        with open(name_model, \"r\") as jfile:\n",
    "            model = model_from_json(json.load(jfile))\n",
    "        model.load_weights(name_weights)\n",
    "        model.compile(\"sgd\", \"mse\")\n",
    "        self.model = model\n",
    "\n",
    "            \n",
    "class DQN_FC(DQN):\n",
    "    def __init__(self, *args, lr=0.1,**kwargs):\n",
    "        super(DQN_FC, self).__init__( *args,**kwargs)\n",
    "        self.model=Sequential()\n",
    "        self.model.add(Flatten(input_shape=(5, 5, 2))) \n",
    "        self.model.add(Dense(32, activation='relu')) \n",
    "        self.model.add(Dense(16, activation='relu'))\n",
    "        self.model.add(Dense(4, activation='sigmoid'))\n",
    "        self.model.compile(sgd(lr=lr, decay=1e-4, momentum=0.0), \"mse\")\n",
    "\n",
    "        "
   ]
  },
  {
   "cell_type": "code",
   "execution_count": 20,
   "metadata": {},
   "outputs": [
    {
     "name": "stdout",
     "output_type": "stream",
     "text": [
      "Epoch 000/030 | Loss 0.0148 | Win/lose count 4.0/6.0 (-2.0)\n",
      "Epoch 001/030 | Loss 0.0031 | Win/lose count 2.0/2.0 (0.0)\n",
      "Epoch 002/030 | Loss 0.0165 | Win/lose count 3.0/8.0 (-5.0)\n",
      "Epoch 003/030 | Loss 0.0197 | Win/lose count 0.5/4.0 (-3.5)\n",
      "Epoch 004/030 | Loss 0.0014 | Win/lose count 2.5/1.0 (1.5)\n",
      "Epoch 005/030 | Loss 0.0015 | Win/lose count 3.5/7.0 (-3.5)\n",
      "Epoch 006/030 | Loss 0.0104 | Win/lose count 3.0/0 (3.0)\n",
      "Epoch 007/030 | Loss 0.0187 | Win/lose count 3.5/6.0 (-2.5)\n",
      "Epoch 008/030 | Loss 0.0017 | Win/lose count 6.5/1.0 (5.5)\n",
      "Epoch 009/030 | Loss 0.0031 | Win/lose count 3.5/1.0 (2.5)\n",
      "Epoch 010/030 | Loss 0.0009 | Win/lose count 2.0/2.0 (0.0)\n",
      "Epoch 011/030 | Loss 0.0035 | Win/lose count 13.0/12.0 (1.0)\n",
      "Epoch 012/030 | Loss 0.0174 | Win/lose count 4.0/3.0 (1.0)\n",
      "Epoch 013/030 | Loss 0.0104 | Win/lose count 1.5/2.0 (-0.5)\n",
      "Epoch 014/030 | Loss 0.0071 | Win/lose count 3.0/4.0 (-1.0)\n",
      "Epoch 015/030 | Loss 0.0169 | Win/lose count 3.5/3.0 (0.5)\n",
      "Epoch 016/030 | Loss 0.0088 | Win/lose count 6.5/7.0 (-0.5)\n",
      "Epoch 017/030 | Loss 0.0056 | Win/lose count 5.0/4.0 (1.0)\n",
      "Epoch 018/030 | Loss 0.0096 | Win/lose count 4.5/7.0 (-2.5)\n",
      "Epoch 019/030 | Loss 0.0127 | Win/lose count 3.5/1.0 (2.5)\n",
      "Epoch 020/030 | Loss 0.0183 | Win/lose count 3.0/1.0 (2.0)\n",
      "Epoch 021/030 | Loss 0.0049 | Win/lose count 5.5/3.0 (2.5)\n",
      "Epoch 022/030 | Loss 0.0026 | Win/lose count 2.5/5.0 (-2.5)\n",
      "Epoch 023/030 | Loss 0.0031 | Win/lose count 8.5/10.0 (-1.5)\n",
      "Epoch 024/030 | Loss 0.0021 | Win/lose count 3.0/7.0 (-4.0)\n",
      "Epoch 025/030 | Loss 0.0103 | Win/lose count 3.5/4.0 (-0.5)\n",
      "Epoch 026/030 | Loss 0.0211 | Win/lose count 2.0/1.0 (1.0)\n",
      "Epoch 027/030 | Loss 0.0005 | Win/lose count 3.0/1.0 (2.0)\n",
      "Epoch 028/030 | Loss 0.0155 | Win/lose count 2.0/4.0 (-2.0)\n",
      "Epoch 029/030 | Loss 0.0141 | Win/lose count 5.0/3.0 (2.0)\n"
     ]
    },
    {
     "data": {
      "text/html": [
       "<video alt=\"test\" controls>\n",
       "                <source src=\"data:video/mp4;base64,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\" type=\"video/mp4\" />\n",
       "             </video>"
      ],
      "text/plain": [
       "<IPython.core.display.HTML object>"
      ]
     },
     "execution_count": 20,
     "metadata": {},
     "output_type": "execute_result"
    }
   ],
   "source": [
    "env = Environment(grid_size=size, max_time=T, temperature=0.3)\n",
    "agent = DQN_FC(size, lr=.2, epsilon = 0.1, memory_size=5000, batch_size = 32)\n",
    "train(agent, env, epochs_train, prefix='fc_train')\n",
    "HTML(display_videos('fc_train10.mp4'))"
   ]
  },
  {
   "cell_type": "markdown",
   "metadata": {},
   "source": [
    "***\n",
    "***\n",
    "__Question 8__ Implement the DQN training algorithm using a CNN (for example, 2 convolutional layers and one final fully connected layer)."
   ]
  },
  {
   "cell_type": "code",
   "execution_count": 22,
   "metadata": {},
   "outputs": [],
   "source": [
    "class DQN_CNN(DQN):\n",
    "    def __init__(self, *args,lr=0.1,**kwargs):\n",
    "        super(DQN_CNN, self).__init__(*args,**kwargs)\n",
    "        \n",
    "        model=Sequential()\n",
    "        model.add(Conv2D(8,(2,2),activation=\"relu\",input_shape=(5,5,2),padding='same'))\n",
    "        model.add(MaxPooling2D(pool_size=(2, 2),padding='same'))\n",
    "        model.add(Flatten())\n",
    "        model.add(Dense(16,activation=\"relu\"))\n",
    "        model.add(Dense(4,activation=\"relu\"))\n",
    "        model.compile(sgd(lr=lr, decay=1e-4, momentum=0.0), \"mse\")\n",
    "        self.model = model\n",
    "        "
   ]
  },
  {
   "cell_type": "code",
   "execution_count": 15,
   "metadata": {},
   "outputs": [
    {
     "name": "stdout",
     "output_type": "stream",
     "text": [
      "Epoch 000/030 | Loss 0.0335 | Win/lose count 3.0/4.0 (-1.0)\n",
      "Epoch 001/030 | Loss 0.0081 | Win/lose count 1.0/4.0 (-3.0)\n",
      "Epoch 002/030 | Loss 0.0104 | Win/lose count 3.5/7.0 (-3.5)\n",
      "Epoch 003/030 | Loss 0.0150 | Win/lose count 3.0/7.0 (-4.0)\n",
      "Epoch 004/030 | Loss 0.0065 | Win/lose count 4.0/1.0 (3.0)\n",
      "Epoch 005/030 | Loss 0.0179 | Win/lose count 6.0/5.0 (1.0)\n",
      "Epoch 006/030 | Loss 0.0095 | Win/lose count 5.0/2.0 (3.0)\n",
      "Epoch 007/030 | Loss 0.0066 | Win/lose count 1.0/2.0 (-1.0)\n",
      "Epoch 008/030 | Loss 0.0051 | Win/lose count 4.0/5.0 (-1.0)\n",
      "Epoch 009/030 | Loss 0.0050 | Win/lose count 2.0/6.0 (-4.0)\n",
      "Epoch 010/030 | Loss 0.0060 | Win/lose count 2.5/5.0 (-2.5)\n",
      "Epoch 011/030 | Loss 0.0097 | Win/lose count 6.0/5.0 (1.0)\n",
      "Epoch 012/030 | Loss 0.0227 | Win/lose count 0.5/2.0 (-1.5)\n",
      "Epoch 013/030 | Loss 0.0049 | Win/lose count 8.5/2.0 (6.5)\n",
      "Epoch 014/030 | Loss 0.0414 | Win/lose count 7.5/2.0 (5.5)\n",
      "Epoch 015/030 | Loss 0.0075 | Win/lose count 5.5/2.0 (3.5)\n",
      "Epoch 016/030 | Loss 0.0101 | Win/lose count 7.0/3.0 (4.0)\n",
      "Epoch 017/030 | Loss 0.0076 | Win/lose count 5.0/4.0 (1.0)\n",
      "Epoch 018/030 | Loss 0.0113 | Win/lose count 2.0/2.0 (0.0)\n",
      "Epoch 019/030 | Loss 0.0056 | Win/lose count 2.0/1.0 (1.0)\n",
      "Epoch 020/030 | Loss 0.0168 | Win/lose count 9.0/1.0 (8.0)\n",
      "Epoch 021/030 | Loss 0.0094 | Win/lose count 6.0/4.0 (2.0)\n",
      "Epoch 022/030 | Loss 0.0711 | Win/lose count 1.0/3.0 (-2.0)\n",
      "Epoch 023/030 | Loss 0.0055 | Win/lose count 9.5/5.0 (4.5)\n",
      "Epoch 024/030 | Loss 0.0136 | Win/lose count 7.0/2.0 (5.0)\n",
      "Epoch 025/030 | Loss 0.0034 | Win/lose count 9.5/5.0 (4.5)\n",
      "Epoch 026/030 | Loss 0.0068 | Win/lose count 2.5/3.0 (-0.5)\n",
      "Epoch 027/030 | Loss 0.0053 | Win/lose count 8.0/1.0 (7.0)\n",
      "Epoch 028/030 | Loss 0.0065 | Win/lose count 19.5/9.0 (10.5)\n",
      "Epoch 029/030 | Loss 0.0041 | Win/lose count 9.0/4.0 (5.0)\n"
     ]
    },
    {
     "data": {
      "text/html": [
       "<video alt=\"test\" controls>\n",
       "                <source src=\"data:video/mp4;base64,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\" type=\"video/mp4\" />\n",
       "             </video>"
      ],
      "text/plain": [
       "<IPython.core.display.HTML object>"
      ]
     },
     "execution_count": 15,
     "metadata": {},
     "output_type": "execute_result"
    }
   ],
   "source": [
    "env = Environment(grid_size=size, max_time=T, temperature=0.3)\n",
    "agent = DQN_CNN(size, lr=.2, epsilon = 0.1, memory_size=4000, batch_size = 32)\n",
    "train(agent,env,epochs_train,prefix='cnn_train')\n",
    "HTML(display_videos('cnn_train10.mp4'))"
   ]
  },
  {
   "cell_type": "markdown",
   "metadata": {},
   "source": [
    "***\n",
    "***\n",
    "__Question 9__ Test both algorithms and compare their performances. Which issue(s) do you observe? Observe also different behaviors by changing the temperature."
   ]
  },
  {
   "cell_type": "code",
   "execution_count": 23,
   "metadata": {},
   "outputs": [
    {
     "name": "stdout",
     "output_type": "stream",
     "text": [
      "Test of the CNN\n",
      "Win/lose count 4.5/1.0. Average score (3.5)\n",
      "Win/lose count 3.0/4.0. Average score (1.25)\n",
      "Win/lose count 2.0/1.0. Average score (1.1666666666666667)\n",
      "Win/lose count 3.0/0. Average score (1.625)\n",
      "Win/lose count 4.0/6.0. Average score (0.9)\n",
      "Win/lose count 3.0/4.0. Average score (0.5833333333333334)\n",
      "Win/lose count 1.0/3.0. Average score (0.21428571428571427)\n",
      "Win/lose count 6.0/4.0. Average score (0.4375)\n",
      "Win/lose count 6.0/5.0. Average score (0.5)\n",
      "Win/lose count 2.0/1.0. Average score (0.55)\n",
      "Win/lose count 2.0/3.0. Average score (0.4090909090909091)\n",
      "Win/lose count 2.0/4.0. Average score (0.20833333333333334)\n",
      "Win/lose count 4.0/1.0. Average score (0.4230769230769231)\n",
      "Win/lose count 0.5/2.0. Average score (0.2857142857142857)\n",
      "Win/lose count 3.5/3.0. Average score (0.3)\n",
      "Win/lose count 0.5/3.0. Average score (0.125)\n",
      "Win/lose count 2.0/2.0. Average score (0.11764705882352941)\n",
      "Win/lose count 4.0/6.0. Average score (0.0)\n",
      "Win/lose count 2.0/7.0. Average score (-0.2631578947368421)\n",
      "Win/lose count 2.0/0. Average score (-0.15)\n",
      "Win/lose count 3.0/5.0. Average score (-0.23809523809523808)\n",
      "Win/lose count 4.0/0. Average score (-0.045454545454545456)\n",
      "Win/lose count 2.0/1.0. Average score (0.0)\n",
      "Win/lose count 6.0/1.0. Average score (0.20833333333333334)\n",
      "Win/lose count 9.5/5.0. Average score (0.38)\n",
      "Win/lose count 3.5/2.0. Average score (0.4230769230769231)\n",
      "Win/lose count 2.5/2.0. Average score (0.42592592592592593)\n",
      "Win/lose count 4.0/4.0. Average score (0.4107142857142857)\n",
      "Win/lose count 4.5/2.0. Average score (0.4827586206896552)\n",
      "Win/lose count 3.0/0. Average score (0.5666666666666667)\n",
      "Final score: 0.566666666667\n",
      "Test of the FC\n",
      "Win/lose count 6.0/6.0. Average score (0.0)\n",
      "Win/lose count 2.5/1.0. Average score (0.75)\n",
      "Win/lose count 1.0/0. Average score (0.8333333333333334)\n",
      "Win/lose count 1.5/4.0. Average score (0.0)\n",
      "Win/lose count 1.5/3.0. Average score (-0.3)\n",
      "Win/lose count 1.0/5.0. Average score (-0.9166666666666666)\n",
      "Win/lose count 1.5/3.0. Average score (-1.0)\n",
      "Win/lose count 3.5/2.0. Average score (-0.6875)\n",
      "Win/lose count 0/4.0. Average score (-1.0555555555555556)\n",
      "Win/lose count 0.5/3.0. Average score (-1.2)\n",
      "Win/lose count 2.0/4.0. Average score (-1.2727272727272727)\n",
      "Win/lose count 0.5/0. Average score (-1.125)\n",
      "Win/lose count 1.5/3.0. Average score (-1.1538461538461537)\n",
      "Win/lose count 2.5/4.0. Average score (-1.1785714285714286)\n",
      "Win/lose count 2.0/3.0. Average score (-1.1666666666666667)\n",
      "Win/lose count 2.0/4.0. Average score (-1.21875)\n",
      "Win/lose count 2.0/1.0. Average score (-1.088235294117647)\n",
      "Win/lose count 2.0/11.0. Average score (-1.5277777777777777)\n",
      "Win/lose count 6.0/3.0. Average score (-1.2894736842105263)\n",
      "Win/lose count 2.0/4.0. Average score (-1.325)\n",
      "Win/lose count 3.5/2.0. Average score (-1.1904761904761905)\n",
      "Win/lose count 0.5/2.0. Average score (-1.2045454545454546)\n",
      "Win/lose count 7.0/2.0. Average score (-0.9347826086956522)\n",
      "Win/lose count 2.5/4.0. Average score (-0.9583333333333334)\n",
      "Win/lose count 0.5/3.0. Average score (-1.02)\n",
      "Win/lose count 2.5/3.0. Average score (-1.0)\n",
      "Win/lose count 4.0/3.0. Average score (-0.9259259259259259)\n",
      "Win/lose count 1.0/5.0. Average score (-1.0357142857142858)\n",
      "Win/lose count 3.5/1.0. Average score (-0.9137931034482759)\n",
      "Win/lose count 2.5/3.0. Average score (-0.9)\n",
      "Final score: -0.9\n"
     ]
    }
   ],
   "source": [
    "env = Environment(grid_size=size, max_time=T,temperature=0.2)\n",
    "agent_cnn = DQN_CNN(size, lr=.1, epsilon = 0.1, memory_size=2000, batch_size = 32)\n",
    "agent_cnn.load(name_weights='cnn_trainmodel.h5',name_model='cnn_trainmodel.json')\n",
    "\n",
    "agent_fc = DQN_FC(size, lr=.1, epsilon = 0.1, memory_size=2000, batch_size = 32)\n",
    "agent_cnn.load(name_weights='fc_trainmodel.h5',name_model='fc_trainmodel.json')\n",
    "print('Test of the CNN')\n",
    "test(agent_cnn,env,epochs_test,prefix='cnn_test')\n",
    "print('Test of the FC')\n",
    "test(agent_fc,env,epochs_test,prefix='fc_test')"
   ]
  },
  {
   "cell_type": "code",
   "execution_count": null,
   "metadata": {},
   "outputs": [],
   "source": [
    "HTML(display_videos('cnn_test20.mp4'))"
   ]
  },
  {
   "cell_type": "code",
   "execution_count": null,
   "metadata": {},
   "outputs": [],
   "source": [
    "HTML(display_videos('fc_test20.mp4'))"
   ]
  },
  {
   "cell_type": "markdown",
   "metadata": {},
   "source": []
  },
  {
   "cell_type": "markdown",
   "metadata": {},
   "source": [
    "***\n",
    "\n",
    "The algorithm tends to not explore the map which can be an issue. We propose two ideas in order to encourage exploration:\n",
    "1. Incorporating a decreasing $\\epsilon$-greedy exploration. You can use the method ```set_epsilon```\n",
    "2. Append via the environment a new state that describes if a cell has been visited or not\n",
    "\n",
    "***\n",
    "__Question 10__ Design a new ```train_explore``` function and environment class ```EnvironmentExploring``` to tackle the issue of exploration.\n",
    "\n"
   ]
  },
  {
   "cell_type": "code",
   "execution_count": null,
   "metadata": {},
   "outputs": [],
   "source": [
    "def train_explore(agent,env,epoch,prefix=''):\n",
    "    pass\n",
    "        \n",
    "class EnvironmentExploring(object):\n",
    "    def __init__(self, grid_size=10, max_time=500, temperature=0.1):\n",
    "        pass\n",
    "    \n",
    "## use those samples of code:\n",
    "#In train explore:\n",
    "state, reward, game_over = env.act(action, train=True)\n",
    "\n",
    "## In Environment exploring:\n",
    "# You will have to change n_state to 3 because you will use one more layer!\n",
    "reward = 0\n",
    "if train:\n",
    "    reward = -self.malus_position[self.x, self.y]\n",
    "self.malus_position[self.x, self.y] = 0.1\n",
    "\n",
    "reward = reward + self.board[self.x, self.y]\n",
    "# 3 \"feature\" states instead of 2\n",
    "state = np.concatenate((self.malus_position.reshape(self.grid_size, self.grid_size,1),\n",
    "                                self.board.reshape(self.grid_size, self.grid_size,1),\n",
    "                        self.position.reshape(self.grid_size, self.grid_size,1)),axis=2)"
   ]
  },
  {
   "cell_type": "code",
   "execution_count": null,
   "metadata": {
    "collapsed": true
   },
   "outputs": [],
   "source": [
    "# Training\n",
    "env = EnvironmentExploring(grid_size=size, max_time=T, temperature=0.3)\n",
    "agent = DQN_CNN(size, lr=.1, epsilon = 0.1, memory_size=2000, batch_size = 32,n_state=3)\n",
    "train_explore(agent, env, epochs_train, prefix='cnn_train_explore')\n",
    "HTML(display_videos('cnn_train_explore10.mp4'))"
   ]
  },
  {
   "cell_type": "code",
   "execution_count": null,
   "metadata": {
    "collapsed": true
   },
   "outputs": [],
   "source": [
    "# Evaluation\n",
    "test(agent,env,epochs_test,prefix='cnn_test_explore')\n",
    "HTML(display_videos('cnn_test_explore10.mp4'))"
   ]
  },
  {
   "cell_type": "markdown",
   "metadata": {},
   "source": [
    "***\n",
    "***\n",
    "__BONUS question__ Use the expert DQN from the previous question to generate some winning games. Train a model that mimicks its behavior. Compare the performances."
   ]
  },
  {
   "cell_type": "markdown",
   "metadata": {},
   "source": []
  },
  {
   "cell_type": "markdown",
   "metadata": {},
   "source": [
    "***"
   ]
  }
 ],
 "metadata": {
  "kernelspec": {
   "display_name": "Python 3",
   "language": "python",
   "name": "python3"
  },
  "language_info": {
   "codemirror_mode": {
    "name": "ipython",
    "version": 3
   },
   "file_extension": ".py",
   "mimetype": "text/x-python",
   "name": "python",
   "nbconvert_exporter": "python",
   "pygments_lexer": "ipython3",
   "version": "3.6.4"
  }
 },
 "nbformat": 4,
 "nbformat_minor": 2
}
